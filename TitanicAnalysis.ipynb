{
 "cells": [
  {
   "cell_type": "markdown",
   "metadata": {},
   "source": [
    "**Name:** Rahul Kumar\n",
    "\n",
    "**Student ID:** rxk190002\n",
    "\n",
    "***"
   ]
  },
  {
   "cell_type": "markdown",
   "metadata": {},
   "source": [
    "# Results\n",
    "- Models used with hyperparameters - KNN regressor, linear regression, linear regression with SGD, Ridge, Lasso, ElasticNet,             Polynomial regression, SVM simple and with kernels (rbf, poly, and sigmoid kernel), Decision Tree regression, Two models         with Pasting, Two models with Bagging, Random Forest, Ada Boost (with decision tree, Gradient Boost, Extra-Trees,               XGBoost, Voting Regressor to combine results of top 5 models, Voting Regressor to combine results of models with least           correlation, Stacking Regressor to combine results of top 5 models, Stacking Regressor to combine results of models with             least correlation\n",
    "\n",
    "\n",
    "- Best Model parameters - 'learning_rate': 0.1, 'max_depth': 4, 'min_child_weight': 1, 'n_estimators': 150, 'subsample': 0.8       (XGBoost)\n",
    "- Mean Cross validation score of Best model - 0.8981992683459357 (XGBoost)\n",
    "- Test score of best model - 0.8776048030903614 (XGBoost)\n",
    "- Train score of best model - 0.979396879296572 (XGBoost)\n",
    "- r2_score of best model - 0.8776048030903614 (XGBoost)"
   ]
  },
  {
   "cell_type": "markdown",
   "metadata": {},
   "source": [
    "## Data PreProcessing"
   ]
  },
  {
   "cell_type": "code",
   "execution_count": 1,
   "metadata": {
    "ExecuteTime": {
     "end_time": "2020-03-09T07:32:49.555666Z",
     "start_time": "2020-03-09T07:32:49.545638Z"
    }
   },
   "outputs": [],
   "source": [
    "from math import sqrt\n",
    "import pandas as pd\n",
    "import numpy as np\n",
    "import matplotlib.pyplot as plt\n",
    "import seaborn as sns\n",
    "import scipy.stats as stats\n",
    "\n",
    "pd.pandas.set_option('display.max_columns', None)\n",
    "%matplotlib inline"
   ]
  },
  {
   "cell_type": "markdown",
   "metadata": {},
   "source": [
    "### Load Datasets"
   ]
  },
  {
   "cell_type": "code",
   "execution_count": 2,
   "metadata": {
    "ExecuteTime": {
     "end_time": "2020-03-09T07:32:50.854852Z",
     "start_time": "2020-03-09T07:32:50.812739Z"
    }
   },
   "outputs": [],
   "source": [
    "# load dataset\n",
    "# your code here\n",
    "data = pd.read_csv(r\"C:\\Users\\Rahul\\Downloads\\houseprice.csv\")\n"
   ]
  },
  {
   "cell_type": "markdown",
   "metadata": {},
   "source": [
    "### Types of variables\n",
    "\n"
   ]
  },
  {
   "cell_type": "code",
   "execution_count": 3,
   "metadata": {
    "ExecuteTime": {
     "end_time": "2020-03-09T07:32:51.725905Z",
     "start_time": "2020-03-09T07:32:51.719889Z"
    }
   },
   "outputs": [
    {
     "name": "stdout",
     "output_type": "stream",
     "text": [
      "Number of House Id labels:  1460\n",
      "Number of Houses in the Dataset:  1460\n"
     ]
    }
   ],
   "source": [
    "# we have an Id variable, that we should not use for predictions:\n",
    "\n",
    "print('Number of House Id labels: ', len(data.Id.unique()))\n",
    "print('Number of Houses in the Dataset: ', len(data))"
   ]
  },
  {
   "cell_type": "markdown",
   "metadata": {},
   "source": [
    "#### Find categorical variables"
   ]
  },
  {
   "cell_type": "code",
   "execution_count": 4,
   "metadata": {
    "ExecuteTime": {
     "end_time": "2020-03-09T07:32:53.140553Z",
     "start_time": "2020-03-09T07:32:53.135036Z"
    }
   },
   "outputs": [
    {
     "name": "stdout",
     "output_type": "stream",
     "text": [
      "There are 43 categorical variables\n"
     ]
    }
   ],
   "source": [
    "# find categorical variables- hint data type = 'O'\n",
    "\n",
    "categorical = [var for var in data.columns if data[var].dtype=='O']\n",
    "\n",
    "print(f'There are {len(categorical)} categorical variables')"
   ]
  },
  {
   "cell_type": "markdown",
   "metadata": {},
   "source": [
    "#### Find temporal variables"
   ]
  },
  {
   "cell_type": "code",
   "execution_count": 5,
   "metadata": {
    "ExecuteTime": {
     "end_time": "2020-03-09T07:32:54.328164Z",
     "start_time": "2020-03-09T07:32:54.321146Z"
    }
   },
   "outputs": [
    {
     "data": {
      "text/plain": [
       "['YearBuilt', 'YearRemodAdd', 'GarageYrBlt', 'YrSold']"
      ]
     },
     "execution_count": 5,
     "metadata": {},
     "output_type": "execute_result"
    }
   ],
   "source": [
    "# make a list of the numerical variables first= Hint data type != O\n",
    "numerical = [var for var in data.columns if data[var].dtype!='O']\n",
    "\n",
    "# list of variables that contain year information= Hint variable namme has Yr or \n",
    "year_vars = [var for var in numerical if 'Yr' in var or 'Year' in var]\n",
    "\n",
    "year_vars"
   ]
  },
  {
   "cell_type": "markdown",
   "metadata": {},
   "source": [
    "#### Find discrete variables\n",
    "\n",
    "To identify discrete variables- numerical variables with less than 20 unique values "
   ]
  },
  {
   "cell_type": "code",
   "execution_count": 6,
   "metadata": {
    "ExecuteTime": {
     "end_time": "2020-03-09T07:32:55.849304Z",
     "start_time": "2020-03-09T07:32:55.835765Z"
    }
   },
   "outputs": [
    {
     "name": "stdout",
     "output_type": "stream",
     "text": [
      "There are 14 discrete variables\n"
     ]
    }
   ],
   "source": [
    "# let's visualise the values of the discrete variables\n",
    "discrete = [var for var in numerical if len(data[var].unique()) < 20 and var not in year_vars]\n",
    "\n",
    "print(f'There are {len(discrete)} discrete variables')"
   ]
  },
  {
   "cell_type": "markdown",
   "metadata": {},
   "source": [
    "#### Continuous variables"
   ]
  },
  {
   "cell_type": "code",
   "execution_count": 7,
   "metadata": {
    "ExecuteTime": {
     "end_time": "2020-03-09T07:32:57.274949Z",
     "start_time": "2020-03-09T07:32:57.268932Z"
    }
   },
   "outputs": [
    {
     "name": "stdout",
     "output_type": "stream",
     "text": [
      "There are 38 numerical and continuous variables\n"
     ]
    }
   ],
   "source": [
    "# find continuous variables- hint numerical variables not in discrete and  year_years \n",
    "# Also remove the Id variable and the target variable SalePrice\n",
    "# which are both also numerical\n",
    "\n",
    "continuous = [var for var in numerical if var not in discrete and var not in [\n",
    "    'Id', 'SalePrice'] and var not in year_vars]\n",
    "\n",
    "print('There are {} numerical and continuous variables'.format(len(numerical)))"
   ]
  },
  {
   "cell_type": "markdown",
   "metadata": {},
   "source": [
    "### Separate train and test set"
   ]
  },
  {
   "cell_type": "code",
   "execution_count": 8,
   "metadata": {
    "ExecuteTime": {
     "end_time": "2020-03-09T07:32:58.666697Z",
     "start_time": "2020-03-09T07:32:58.651653Z"
    }
   },
   "outputs": [
    {
     "data": {
      "text/plain": [
       "((1314, 79), (146, 79))"
      ]
     },
     "execution_count": 8,
     "metadata": {},
     "output_type": "execute_result"
    }
   ],
   "source": [
    "# Let's separate into train and test set\n",
    "from sklearn.model_selection import train_test_split\n",
    "X_train, X_test, y_train, y_test = train_test_split(data.drop(['Id', 'SalePrice'], axis=1),\n",
    "                                                    data['SalePrice'],\n",
    "                                                    test_size=0.1,\n",
    "                                                    random_state=0)\n",
    "\n",
    "X_train.shape, X_test.shape"
   ]
  },
  {
   "cell_type": "markdown",
   "metadata": {},
   "source": [
    "**Now we will move on and engineer the features of this dataset. The most important part for this course.**"
   ]
  },
  {
   "cell_type": "markdown",
   "metadata": {},
   "source": [
    "### Craete New Variables\n",
    "\n",
    "Replace 'YearBuilt', 'YearRemodAdd', 'GarageYrBlt  with time elapsed since YrSold\n",
    "So YearBuilt = YrSold-YearBuilt. \n",
    "\n",
    "Similarly transform 'YearRemodAdd', 'GarageYrBlt.\n",
    "After making transformation drop YrSold"
   ]
  },
  {
   "cell_type": "code",
   "execution_count": 9,
   "metadata": {
    "ExecuteTime": {
     "end_time": "2020-03-09T07:33:00.776674Z",
     "start_time": "2020-03-09T07:33:00.771663Z"
    }
   },
   "outputs": [],
   "source": [
    "# function to calculate elapsed time\n",
    "\n",
    "def elapsed_years(df, var):\n",
    "    # capture difference between year variable and\n",
    "    # year the house was sold\n",
    "    \n",
    "    df[var] = df['YrSold'] - df[var]\n",
    "    return df"
   ]
  },
  {
   "cell_type": "code",
   "execution_count": 10,
   "metadata": {
    "ExecuteTime": {
     "end_time": "2020-03-09T07:33:02.547542Z",
     "start_time": "2020-03-09T07:33:02.540522Z"
    }
   },
   "outputs": [],
   "source": [
    "for var in ['YearBuilt', 'YearRemodAdd', 'GarageYrBlt']:\n",
    "    X_train = elapsed_years(X_train, var)\n",
    "    X_test = elapsed_years(X_test, var)"
   ]
  },
  {
   "cell_type": "code",
   "execution_count": 11,
   "metadata": {
    "ExecuteTime": {
     "end_time": "2020-03-09T07:33:03.567722Z",
     "start_time": "2020-03-09T07:33:03.559698Z"
    }
   },
   "outputs": [],
   "source": [
    "# drop YrSold\n",
    "X_train.drop('YrSold', axis=1, inplace=True)\n",
    "X_test.drop('YrSold', axis=1, inplace=True)"
   ]
  },
  {
   "cell_type": "code",
   "execution_count": 12,
   "metadata": {
    "ExecuteTime": {
     "end_time": "2020-03-09T07:33:04.982369Z",
     "start_time": "2020-03-09T07:33:04.978849Z"
    }
   },
   "outputs": [],
   "source": [
    "year_vars.remove('YrSold')"
   ]
  },
  {
   "cell_type": "code",
   "execution_count": 13,
   "metadata": {
    "ExecuteTime": {
     "end_time": "2020-03-09T07:33:05.869066Z",
     "start_time": "2020-03-09T07:33:05.863050Z"
    }
   },
   "outputs": [
    {
     "data": {
      "text/plain": [
       "Index(['MSSubClass', 'MSZoning', 'LotFrontage', 'LotArea', 'Street', 'Alley',\n",
       "       'LotShape', 'LandContour', 'Utilities', 'LotConfig', 'LandSlope',\n",
       "       'Neighborhood', 'Condition1', 'Condition2', 'BldgType', 'HouseStyle',\n",
       "       'OverallQual', 'OverallCond', 'YearBuilt', 'YearRemodAdd', 'RoofStyle',\n",
       "       'RoofMatl', 'Exterior1st', 'Exterior2nd', 'MasVnrType', 'MasVnrArea',\n",
       "       'ExterQual', 'ExterCond', 'Foundation', 'BsmtQual', 'BsmtCond',\n",
       "       'BsmtExposure', 'BsmtFinType1', 'BsmtFinSF1', 'BsmtFinType2',\n",
       "       'BsmtFinSF2', 'BsmtUnfSF', 'TotalBsmtSF', 'Heating', 'HeatingQC',\n",
       "       'CentralAir', 'Electrical', '1stFlrSF', '2ndFlrSF', 'LowQualFinSF',\n",
       "       'GrLivArea', 'BsmtFullBath', 'BsmtHalfBath', 'FullBath', 'HalfBath',\n",
       "       'BedroomAbvGr', 'KitchenAbvGr', 'KitchenQual', 'TotRmsAbvGrd',\n",
       "       'Functional', 'Fireplaces', 'FireplaceQu', 'GarageType', 'GarageYrBlt',\n",
       "       'GarageFinish', 'GarageCars', 'GarageArea', 'GarageQual', 'GarageCond',\n",
       "       'PavedDrive', 'WoodDeckSF', 'OpenPorchSF', 'EnclosedPorch', '3SsnPorch',\n",
       "       'ScreenPorch', 'PoolArea', 'PoolQC', 'Fence', 'MiscFeature', 'MiscVal',\n",
       "       'MoSold', 'SaleType', 'SaleCondition'],\n",
       "      dtype='object')"
      ]
     },
     "execution_count": 13,
     "metadata": {},
     "output_type": "execute_result"
    }
   ],
   "source": [
    "# capture the column names for use later in the notebook\n",
    "final_columns = X_train.columns\n",
    "final_columns"
   ]
  },
  {
   "cell_type": "markdown",
   "metadata": {},
   "source": [
    "### Feature Engineering Pipeline"
   ]
  },
  {
   "cell_type": "code",
   "execution_count": 14,
   "metadata": {
    "ExecuteTime": {
     "end_time": "2020-03-09T07:33:07.930697Z",
     "start_time": "2020-03-09T07:33:07.909638Z"
    }
   },
   "outputs": [],
   "source": [
    "# I will treat discrete variables as if they were categorical\n",
    "# to treat discrete as categorical using Feature-engine\n",
    "# we need to re-cast them as object\n",
    "\n",
    "X_train[discrete] = X_train[discrete].astype('O')\n",
    "X_test[discrete] = X_test[discrete].astype('O')"
   ]
  },
  {
   "cell_type": "code",
   "execution_count": 15,
   "metadata": {
    "ExecuteTime": {
     "end_time": "2020-03-09T07:33:10.023580Z",
     "start_time": "2020-03-09T07:33:10.018569Z"
    }
   },
   "outputs": [],
   "source": [
    "# import relevant modules for feature engineering\n",
    "from sklearn.pipeline import Pipeline\n",
    "from sklearn.preprocessing import StandardScaler\n",
    "from feature_engine import missing_data_imputers as mdi\n",
    "from feature_engine import categorical_encoders as ce\n",
    "from feature_engine.variable_transformers import YeoJohnsonTransformer\n",
    "from sklearn.preprocessing import StandardScaler\n",
    "from feature_engine.discretisers import DecisionTreeDiscretiser"
   ]
  },
  {
   "cell_type": "code",
   "execution_count": 16,
   "metadata": {
    "ExecuteTime": {
     "end_time": "2020-03-09T07:33:11.578215Z",
     "start_time": "2020-03-09T07:33:11.570194Z"
    }
   },
   "outputs": [],
   "source": [
    "house_preprocess = Pipeline([\n",
    "    \n",
    "    # missing data imputation \n",
    "    ('missing_ind', mdi.AddNaNBinaryImputer(\n",
    "        variables=['LotFrontage', 'MasVnrArea',  'GarageYrBlt'])),\n",
    "    ('imputer_num', mdi.MeanMedianImputer(imputation_method='mean',\n",
    "                                          variables=['LotFrontage', 'MasVnrArea',  'GarageYrBlt'])),\n",
    "    ('imputer_cat', mdi.CategoricalVariableImputer(variables=categorical)),\n",
    "\n",
    "    # categorical encoding \n",
    "     ('rare_label_enc', ce.RareLabelCategoricalEncoder(\n",
    "         tol=0.01,n_categories=6, variables=categorical+discrete)),\n",
    "    ('categorical_enc', ce.MeanCategoricalEncoder(variables = categorical + discrete)),\n",
    "     \n",
    "    # Transforming Numerical Variables\n",
    "    ('yjt', YeoJohnsonTransformer(variables = ['LotFrontage','MasVnrArea', 'GarageYrBlt'])),\n",
    "\n",
    "    \n",
    "    # discretisation and encoding\n",
    "    ('treeDisc',  DecisionTreeDiscretiser(cv=2, scoring='neg_mean_squared_error',\n",
    "                                   regression=True,\n",
    "                                   param_grid={'max_depth': [1,2,3,4,5,6]})),\n",
    "\n",
    "    # feature Scaling\n",
    "    ('scaler', StandardScaler()),\n",
    "    \n",
    "    \n",
    "\n",
    "])"
   ]
  },
  {
   "cell_type": "code",
   "execution_count": 17,
   "metadata": {
    "ExecuteTime": {
     "end_time": "2020-03-09T07:33:18.934597Z",
     "start_time": "2020-03-09T07:33:15.096006Z"
    }
   },
   "outputs": [
    {
     "data": {
      "text/plain": [
       "Pipeline(memory=None,\n",
       "         steps=[('missing_ind',\n",
       "                 AddNaNBinaryImputer(variables=['LotFrontage', 'MasVnrArea',\n",
       "                                                'GarageYrBlt'])),\n",
       "                ('imputer_num',\n",
       "                 MeanMedianImputer(imputation_method='mean',\n",
       "                                   variables=['LotFrontage', 'MasVnrArea',\n",
       "                                              'GarageYrBlt'])),\n",
       "                ('imputer_cat',\n",
       "                 CategoricalVariableImputer(variables=['MSZoning', 'Street',\n",
       "                                                       'Alley', 'LotShape',\n",
       "                                                       'LandContour',\n",
       "                                                       'Utilities', '...\n",
       "                                                    'Utilities', 'LotConfig',\n",
       "                                                    'LandSlope', 'Neighborhood',\n",
       "                                                    'Condition1', 'Condition2',\n",
       "                                                    'BldgType', 'HouseStyle',\n",
       "                                                    'OverallQual',\n",
       "                                                    'OverallCond', 'YearBuilt',\n",
       "                                                    'YearRemodAdd', 'RoofStyle',\n",
       "                                                    'RoofMatl', 'Exterior1st',\n",
       "                                                    'Exterior2nd', 'MasVnrType',\n",
       "                                                    'MasVnrArea', 'ExterQual',\n",
       "                                                    'ExterCond', 'Foundation',\n",
       "                                                    'BsmtQual', ...])),\n",
       "                ('scaler',\n",
       "                 StandardScaler(copy=True, with_mean=True, with_std=True))],\n",
       "         verbose=False)"
      ]
     },
     "execution_count": 17,
     "metadata": {},
     "output_type": "execute_result"
    }
   ],
   "source": [
    "house_preprocess.fit(X_train,y_train)"
   ]
  },
  {
   "cell_type": "code",
   "execution_count": 18,
   "metadata": {
    "ExecuteTime": {
     "end_time": "2020-03-09T07:33:21.351997Z",
     "start_time": "2020-03-09T07:33:20.885744Z"
    }
   },
   "outputs": [],
   "source": [
    "# Apply Transformations\n",
    "X_train=house_preprocess.transform(X_train)\n",
    "X_test=house_preprocess.transform(X_test)"
   ]
  },
  {
   "cell_type": "markdown",
   "metadata": {},
   "source": [
    "## <span class=\"mark\">DO NOT CHANGE STEPS BEFORE THIS POINT</span>"
   ]
  },
  {
   "cell_type": "markdown",
   "metadata": {
    "ExecuteTime": {
     "end_time": "2020-03-09T04:00:12.095764Z",
     "start_time": "2020-03-09T04:00:12.093253Z"
    }
   },
   "source": [
    "## Regression Models- Tune different models one by one"
   ]
  },
  {
   "cell_type": "code",
   "execution_count": 19,
   "metadata": {
    "ExecuteTime": {
     "end_time": "2020-03-09T07:33:23.368390Z",
     "start_time": "2020-03-09T07:33:23.292686Z"
    }
   },
   "outputs": [
    {
     "name": "stdout",
     "output_type": "stream",
     "text": [
      "Mean Cross-validation scores: -1.2531233677405604e+21\n",
      "lr.coef_: [ 8.85927525e+02  9.63821950e+02  1.55093914e+03  2.38123720e+03\n",
      "  1.54867121e+03  3.94643841e+02  5.73339946e+02  1.32077662e+03\n",
      "  1.55946597e+03  2.25919167e+03  1.27504991e+03  1.12929618e+04\n",
      "  1.31777294e+03  2.04524613e+03  1.21008674e+03 -9.02846098e+02\n",
      "  1.58511847e+04 -9.82124059e+01 -5.41455300e+03  3.94119726e+03\n",
      "  3.73336495e+02 -1.17351708e+03  3.44591704e+03 -2.45906679e+03\n",
      " -8.92244713e+02  2.64169300e+02  2.55034152e+03  5.77675879e+02\n",
      "  1.02547905e+01  2.43524833e+03  5.95239944e+02  3.56353271e+03\n",
      "  1.33859388e+03  5.57728195e+03 -1.43383745e+03  2.11644961e+03\n",
      " -2.80153401e+02  7.89568089e+03  2.44320365e+02  1.63894561e+03\n",
      "  1.03758613e+03 -7.92545735e+02  1.21578274e+04  1.11657512e+04\n",
      "  4.20710717e+03  5.60685225e+03  2.72048329e+03 -1.21950180e+03\n",
      "  4.38283844e+03  5.39795630e+03  5.97516292e+02  2.94689148e+03\n",
      "  3.71875504e+03  3.03060751e+03  3.03991793e+03  6.48653394e+02\n",
      "  1.78422356e+03 -2.19543947e+03 -2.43854577e+03 -1.18750138e+03\n",
      "  4.31765061e+03  2.48635231e+02  2.50813698e+03  2.33631624e+02\n",
      "  7.36798066e+01  1.44837613e+03  1.54513968e+03 -1.69712829e+00\n",
      "  2.26100996e+03  2.67782301e+03 -1.45711262e+17  1.45711262e+17\n",
      " -3.01498819e+02 -2.05592005e+03  7.45807652e+02 -1.61204738e+02\n",
      " -1.31813584e+03  5.57575260e+03 -1.47800289e+02  2.60314741e+02\n",
      " -1.52950257e+02]\n",
      "lr.intercept_: 181040.6240487064\n",
      "LR Performance Test:  0.9114426745730106\n",
      "r2_score:  0.8746968378820517\n"
     ]
    }
   ],
   "source": [
    "# Train a linear regression model, report the coefficients and model performance \n",
    "\n",
    "from sklearn.linear_model import LinearRegression\n",
    "from sklearn.model_selection import cross_val_score\n",
    "from sklearn.metrics import r2_score\n",
    "\n",
    "lr = LinearRegression().fit(X_train, y_train)\n",
    "cv_scores = cross_val_score(lr, X_train, y_train)\n",
    "\n",
    "y_pred_linear = lr.predict(X_test)\n",
    "\n",
    "# Mean Cross validation Score\n",
    "print(\"Mean Cross-validation scores: {}\".format(cv_scores.mean()))\n",
    "\n",
    "# Print Co-efficients\n",
    "print(\"lr.coef_:\", lr.coef_)\n",
    "print(\"lr.intercept_:\", lr.intercept_)\n",
    "\n",
    "# Check test data set performance\n",
    "print(\"LR Performance Test: \", lr.score(X_train,y_train))\n",
    "print('r2_score: ', r2_score(y_test,y_pred_linear))"
   ]
  },
  {
   "cell_type": "code",
   "execution_count": 20,
   "metadata": {},
   "outputs": [
    {
     "name": "stdout",
     "output_type": "stream",
     "text": [
      "train score:  0.9999955968722103\n",
      "Best Mean Cross-validation score: 0.84\n",
      "\n",
      "KNN parameters:  {'n_neighbors': 4, 'p': 1, 'weights': 'distance'}\n",
      "KNN Test Performance:  0.8017952424805856\n",
      "r2_score:  0.8017952424805856\n"
     ]
    }
   ],
   "source": [
    "# Train a KNN regressor model\n",
    "\n",
    "from sklearn.model_selection import GridSearchCV\n",
    "from sklearn.neighbors import KNeighborsRegressor\n",
    "knn_reg = KNeighborsRegressor()\n",
    "knn_param_grid = {'n_neighbors' : range(1,20), 'p': [1,2], 'weights': ['distance','uniform']}\n",
    "\n",
    "grid_knn = GridSearchCV(estimator = knn_reg, param_grid = knn_param_grid, cv=5, return_train_score=True, n_jobs= -1)\n",
    "grid_knn.fit(X_train, y_train)\n",
    "\n",
    "y_pred_knn = grid_knn.predict(X_test)\n",
    "\n",
    "best_parameters_knn=grid_knn.best_params_\n",
    "\n",
    "print('train score: ', grid_knn.score(X_train, y_train))\n",
    "\n",
    "# Mean Cross Validation Score\n",
    "print(\"Best Mean Cross-validation score: {:.2f}\".format(grid_knn.best_score_))\n",
    "print()\n",
    "\n",
    "#find best parameters\n",
    "print('KNN parameters: ', grid_knn.best_params_)\n",
    "\n",
    "# Check test data set performance\n",
    "print(\"KNN Test Performance: \", grid_knn.score(X_test,y_test))\n",
    "print('r2_score: ', r2_score(y_test,y_pred_knn))"
   ]
  },
  {
   "cell_type": "code",
   "execution_count": 21,
   "metadata": {
    "ExecuteTime": {
     "end_time": "2020-03-09T07:33:32.923175Z",
     "start_time": "2020-03-09T07:33:32.720114Z"
    }
   },
   "outputs": [
    {
     "name": "stdout",
     "output_type": "stream",
     "text": [
      "Best Mean Cross-validation score: 0.89\n",
      "train score:  0.9103295889443213\n",
      "Ridge parameters:  {'alpha': 100}\n",
      "Ridge.coef_: [ 6.21659729e+02  1.17460178e+03  1.42941553e+03  2.64606835e+03\n",
      "  1.51146267e+03  2.62791603e+02  6.67979067e+02  1.18774714e+03\n",
      "  1.42260925e+03  2.24214684e+03  1.25368077e+03  9.92739531e+03\n",
      "  1.23361742e+03  1.99010230e+03  1.20327177e+03 -6.63081364e+02\n",
      "  1.30900812e+04 -4.66276510e+02 -2.83583594e+03  3.23156417e+03\n",
      "  6.84148916e+02 -6.10003713e+02  1.78250368e+03 -1.24106895e+03\n",
      " -8.16647095e+02  8.17430994e+02  3.38262729e+03  6.89414122e+02\n",
      " -2.93079656e+02  2.71590898e+03  4.54540556e+02  3.45654634e+03\n",
      "  1.37124639e+03  5.85727188e+03 -1.21460614e+03  1.83762570e+03\n",
      " -2.50335442e+02  7.78490680e+03  1.59374113e+02  1.42274787e+03\n",
      "  1.23479897e+03 -5.43667577e+02  1.07696364e+04  1.01767254e+04\n",
      "  3.73457884e+03  6.25609926e+03  2.54341163e+03 -1.10107201e+03\n",
      "  3.81888633e+03  4.50746959e+03  8.23531957e+02  2.86618489e+03\n",
      "  4.19642055e+03  3.72923474e+03  2.86150257e+03  1.16162981e+03\n",
      "  1.86272306e+03 -1.46071138e+03 -1.49365951e+03 -7.89046316e+02\n",
      "  3.51419158e+03  1.50381127e+03  1.65614085e+03  5.11566556e+02\n",
      "  3.73952853e+01  1.30344611e+03  1.57916552e+03 -7.37193962e+01\n",
      "  2.06813040e+03  2.51850021e+03 -6.51713348e+02 -6.51713348e+02\n",
      " -3.70908918e+02 -1.54128339e+03  5.01320874e+02 -1.07090034e+02\n",
      "  2.35733301e+02  3.40278384e+03 -2.52546414e+02  3.26175004e+02\n",
      "  4.31488588e+00]\n",
      "Ridge.intercept_: 181040.6240487064\n",
      "Ridge Test Performance:  0.8731529205790171\n",
      "r2_score:  0.8731529205790172\n"
     ]
    }
   ],
   "source": [
    "# Train a Ridge regression model, report the coefficients, the best parameters, and model performance \n",
    "from sklearn.model_selection import GridSearchCV\n",
    "from sklearn.linear_model import Ridge\n",
    "ridge = Ridge()\n",
    "\n",
    "#define a list of parameters\n",
    "param_ridge = {'alpha':[0.001, 0.01, 0.1, 1, 10, 100, 200] }\n",
    "\n",
    "grid_ridge = GridSearchCV(ridge, param_ridge, cv=6, return_train_score = True)\n",
    "grid_ridge.fit(X_train, y_train)\n",
    "\n",
    "y_pred_ridge = grid_ridge.predict(X_test)\n",
    "\n",
    "# Mean Cross Validation Score\n",
    "print(\"Best Mean Cross-validation score: {:.2f}\".format(grid_ridge.best_score_))\n",
    "\n",
    "print('train score: ', grid_ridge.score(X_train, y_train))\n",
    "\n",
    "#find best parameters\n",
    "print('Ridge parameters: ', grid_ridge.best_params_)\n",
    "\n",
    "# print co-eff\n",
    "\n",
    "print(\"Ridge.coef_:\", grid_ridge.best_estimator_.coef_)\n",
    "print(\"Ridge.intercept_:\", grid_ridge.best_estimator_.intercept_)\n",
    "\n",
    "# Check test data set performance\n",
    "\n",
    "print(\"Ridge Test Performance: \", grid_ridge.score(X_test,y_test))\n",
    "print('r2_score: ', r2_score(y_test,y_pred_ridge))"
   ]
  },
  {
   "cell_type": "code",
   "execution_count": 22,
   "metadata": {
    "ExecuteTime": {
     "end_time": "2020-03-09T07:33:38.130469Z",
     "start_time": "2020-03-09T07:33:37.468173Z"
    }
   },
   "outputs": [
    {
     "name": "stdout",
     "output_type": "stream",
     "text": [
      "Best Mean Cross-validation score: 0.89\n",
      "train score:  0.9107634746095196\n",
      "Lasso parameters:  {'alpha': 200}\n",
      "Lasso.coef_: [ 3.25231511e+02  9.83524218e+02  1.24353514e+03  2.50798876e+03\n",
      "  1.39998324e+03  8.24559857e+01  4.45556752e+02  1.02321817e+03\n",
      "  1.22961417e+03  2.13853082e+03  1.17279944e+03  1.11325473e+04\n",
      "  1.03709105e+03  1.95240546e+03  1.16723234e+03 -4.39635094e+02\n",
      "  1.58656121e+04 -2.15084519e+02 -4.06271077e+03  3.25452562e+03\n",
      "  2.02869288e+02 -5.45110710e+02  6.55670929e+02 -0.00000000e+00\n",
      " -2.87631837e+02  0.00000000e+00  2.31273936e+03  5.49599860e+02\n",
      " -0.00000000e+00  1.90975226e+03  1.70083664e+02  3.36678296e+03\n",
      "  7.83913056e+02  5.94675890e+03 -9.75945765e+02  1.66412198e+03\n",
      " -1.09234292e+02  7.78556001e+03  1.05093159e+01  1.16384277e+03\n",
      "  1.22135452e+03 -1.18989069e+02  1.22803546e+04  1.14020560e+04\n",
      "  3.80227138e+03  5.89250430e+03  2.85576377e+03 -1.10140773e+03\n",
      "  3.58192701e+03  4.85099861e+03  5.86007790e+02  2.77780052e+03\n",
      "  3.81014560e+03  3.01362902e+03  2.74305410e+03  9.33396983e+02\n",
      "  1.31806073e+03 -1.20010688e+03 -1.00709614e+03 -4.58853471e+02\n",
      "  3.72217918e+03  3.69281928e+02  1.87144125e+03  0.00000000e+00\n",
      "  0.00000000e+00  1.17923768e+03  1.26797891e+03  0.00000000e+00\n",
      "  2.24202523e+03  2.52835569e+03 -1.12597685e+03 -0.00000000e+00\n",
      " -8.37477599e+01 -1.34890497e+03  1.41867307e+02 -0.00000000e+00\n",
      " -0.00000000e+00  3.83105181e+03 -0.00000000e+00  0.00000000e+00\n",
      "  0.00000000e+00]\n",
      "Lasso.intercept_: 181040.6240487064\n",
      "Lasso Test Performance:  0.8788681188039594\n",
      "r2_score:  0.8788681188039595\n"
     ]
    }
   ],
   "source": [
    "# Train a Lasso regression model, report the coefficients, the best parameters, and model performance \n",
    "\n",
    "# YOUR CODE HERE\n",
    "\n",
    "from sklearn.linear_model import Lasso\n",
    "lasso = Lasso(random_state=0)\n",
    "\n",
    "#define a list of parameters\n",
    "param_lasso = {'alpha':[0.0001, 0.001, 0.01, 0.1, 1, 10, 100, 200] }\n",
    "\n",
    "grid_lasso = GridSearchCV(lasso, param_lasso, cv=6, return_train_score = True)\n",
    "grid_lasso.fit(X_train, y_train)\n",
    "\n",
    "y_pred_lasso = grid_lasso.predict(X_test)\n",
    "\n",
    "# Mean Cross Validation Score\n",
    "print(\"Best Mean Cross-validation score: {:.2f}\".format(grid_lasso.best_score_))\n",
    "print('train score: ', grid_lasso.score(X_train, y_train))\n",
    "\n",
    "#find best parameters\n",
    "print('Lasso parameters: ', grid_lasso.best_params_)\n",
    "\n",
    "# print co-eff\n",
    "\n",
    "print(\"Lasso.coef_:\", grid_lasso.best_estimator_.coef_)\n",
    "print(\"Lasso.intercept_:\", grid_lasso.best_estimator_.intercept_)\n",
    "\n",
    "# Check test data set performance\n",
    "print(\"Lasso Test Performance: \", grid_lasso.score(X_test,y_test))\n",
    "\n",
    "print('r2_score: ', r2_score(y_test,y_pred_lasso))"
   ]
  },
  {
   "cell_type": "code",
   "execution_count": 23,
   "metadata": {},
   "outputs": [
    {
     "name": "stdout",
     "output_type": "stream",
     "text": [
      "Training set score:  0.8804293481051425\n",
      "Test score:  0.8303971782903924\n",
      "Best parameters:  {'alpha': 1, 'l1_ratio': 0.2}\n",
      "Best cross-validation score: 0.8625901078702587\n",
      "r2_score:  0.8303971782903924\n"
     ]
    }
   ],
   "source": [
    "# Train a ElasticNet regression model\n",
    "\n",
    "from sklearn.linear_model import ElasticNet\n",
    "elasticnet = ElasticNet(max_iter=10000, tol=0.6)\n",
    "\n",
    "#define a list of parameters\n",
    "param_elasticnet = {'alpha':[0.00001, 0.0001, 0.001, 0.01, 0.1, 1, 10, 100], 'l1_ratio' :[0.2,0.4,0.6,0.8]}\n",
    "\n",
    "grid_elasticnet = GridSearchCV(elasticnet , param_elasticnet, cv=5, return_train_score = True)\n",
    "grid_elasticnet.fit(X_train, y_train)\n",
    "\n",
    "y_pred_elasticnet = grid_elasticnet.predict(X_test)\n",
    "\n",
    "grid_elasticnet_train_score = grid_elasticnet.score(X_train, y_train)\n",
    "grid_elasticnet_test_score = grid_elasticnet.score(X_test, y_test)\n",
    "\n",
    "print('Training set score: ', grid_elasticnet_train_score)\n",
    "print('Test score: ', grid_elasticnet_test_score)\n",
    "\n",
    "#find best parameters\n",
    "print('Best parameters: ', grid_elasticnet.best_params_)\n",
    "print('Best cross-validation score:', grid_elasticnet.best_score_)\n",
    "print('r2_score: ', r2_score(y_test,y_pred_elasticnet))"
   ]
  },
  {
   "cell_type": "code",
   "execution_count": 24,
   "metadata": {},
   "outputs": [
    {
     "name": "stdout",
     "output_type": "stream",
     "text": [
      "Training set score:  0.9047955550712964\n",
      "Test score:  0.8625098420990859\n",
      "Best parameters: {'sgd_reg__eta0': 0.05}\n",
      "Best cross-validation score: 0.88\n",
      "r2_score:  0.8625098420990859\n"
     ]
    }
   ],
   "source": [
    "# Train a linear regression with SGD model\n",
    "\n",
    "from sklearn.linear_model import SGDRegressor\n",
    "from sklearn.pipeline import make_pipeline\n",
    "from sklearn.preprocessing import MinMaxScaler\n",
    "\n",
    "# create pipeline\n",
    "reg_sgd_pipe = Pipeline([\n",
    "\n",
    "    # feature Scaling\n",
    "    ('scaler', MinMaxScaler()),\n",
    "    # regression\n",
    "    ('sgd_reg', SGDRegressor(max_iter=10000, tol = 1e-6))\n",
    "])\n",
    "\n",
    "param_sgd = {'sgd_reg__eta0':[0.01, 0.05, 0.1 ,0.5]}\n",
    "grid_sgd = GridSearchCV(reg_sgd_pipe, param_sgd,cv=5, n_jobs=-1, return_train_score = True)\n",
    "grid_sgd.fit(X_train, y_train)\n",
    "\n",
    "y_pred_sgd = grid_sgd.predict(X_test)\n",
    "\n",
    "grid_sgd_train_score = grid_sgd.score(X_train, y_train)\n",
    "grid_sgd_test_score = grid_sgd.score(X_test, y_test)\n",
    "\n",
    "print('Training set score: ', grid_sgd_train_score)\n",
    "print('Test score: ', grid_sgd_test_score)\n",
    "\n",
    "\n",
    "print(\"Best parameters: {}\".format(grid_sgd.best_params_))\n",
    "print(\"Best cross-validation score: {:.2f}\".format(grid_sgd.best_score_))\n",
    "print('r2_score: ', r2_score(y_test,y_pred_sgd))"
   ]
  },
  {
   "cell_type": "code",
   "execution_count": 25,
   "metadata": {},
   "outputs": [
    {
     "name": "stdout",
     "output_type": "stream",
     "text": [
      "train score:  0.9099298380020213\n",
      "Poly parameters:  {'polynomialfeatures__degree': 1}\n",
      "Best cross-validation score: 0.8837\n",
      "Poly features:  82\n",
      "Coefficients:  [ 0.00000000e+00  2.06276988e+03  4.43706347e+03  4.75536294e+03\n",
      "  7.70838999e+03  2.21239958e+04  2.02581163e+03  3.22068736e+03\n",
      "  8.64371487e+03  2.76809063e+04  9.03644609e+03  4.97662245e+03\n",
      "  4.37181352e+04  7.35957724e+03  2.22875250e+04  5.07309957e+03\n",
      " -3.15077611e+03  8.55929604e+04 -1.38457309e+03 -1.84539270e+04\n",
      "  1.39984197e+04  2.38559638e+03 -3.20522292e+03  1.28572488e+04\n",
      " -9.88578450e+03 -3.30192207e+03  3.31132869e+03  1.63912430e+04\n",
      "  4.90767187e+03 -1.80088548e+03  9.74748624e+03  2.76837126e+03\n",
      "  1.80483789e+04  3.56745664e+03  2.77606066e+04 -1.05646734e+04\n",
      "  3.37265745e+04 -5.22494797e+02  6.17565720e+04  1.48675082e+03\n",
      "  4.23439470e+03  4.81750845e+03 -3.89549676e+03  9.83607114e+04\n",
      "  1.01501745e+05  6.93452955e+04  2.49248123e+04  5.95758999e+03\n",
      " -5.51194513e+03  1.96884410e+04  1.02996556e+04  2.67250961e+03\n",
      "  1.37545797e+04  1.70215479e+04  1.55753688e+04  1.32990849e+04\n",
      "  3.12021637e+03  7.30381365e+03 -6.31877738e+03 -8.25464273e+03\n",
      " -3.86454384e+03  1.46683144e+04  3.13088159e+03  7.47921235e+03\n",
      "  1.06267493e+03  3.68084623e+02  3.05629102e+03  3.20028395e+03\n",
      " -3.39641002e+01  3.88628581e+04  1.29014203e+04 -1.09506923e+04\n",
      " -1.09506923e+04 -1.15511332e+03 -2.24818574e+04  1.50801957e+03\n",
      " -5.24906548e+02 -3.01854029e+03  2.65315542e+04 -8.83828558e+02\n",
      "  4.67057692e+03 -1.64733333e+02]\n",
      "Poly Performance Test :  0.8724800100381802\n",
      "R2 score:  0.8724800100381802\n"
     ]
    }
   ],
   "source": [
    "#apply polynomial regression in pipeline\n",
    "from sklearn.preprocessing  import PolynomialFeatures\n",
    "pipe_poly=Pipeline([ \n",
    "    ('polynomialfeatures', PolynomialFeatures()),\n",
    "    ('scaler',MinMaxScaler()),\n",
    "    ('ridge', Ridge())\n",
    "    \n",
    "])\n",
    "\n",
    "#define a list of parameters\n",
    "param_poly = {'polynomialfeatures__degree':range(1,3)}\n",
    "\n",
    "#apply polynomial regression in pipeline\n",
    "grid_poly = GridSearchCV(pipe_poly, param_poly,cv=5, n_jobs=-1, return_train_score = True)\n",
    "grid_poly.fit(X_train, y_train)\n",
    "\n",
    "y_pred_poly=grid_poly.predict(X_test)\n",
    "\n",
    "print('train score: ', grid_poly.score(X_train, y_train))\n",
    "\n",
    "# Mean Cross Validation Score\n",
    "#print(\"Cross Validation training results\", grid_poly.cv_results_['best_train_score'])\n",
    "#print(\"Cross Validation testing results\", grid_poly.cv_results_['best_test_score'])\n",
    "\n",
    "#find best parameters\n",
    "print('Poly parameters: ', grid_poly.best_params_)\n",
    "print(\"Best cross-validation score: {:.4f}\".format(grid_poly.best_score_))\n",
    "\n",
    "# print the coefficients\n",
    "print('Poly features: ', grid_poly.best_estimator_.named_steps['polynomialfeatures'].n_output_features_)\n",
    "print('Coefficients: ', grid_poly.best_estimator_.named_steps['ridge'].coef_)\n",
    "\n",
    "# Check test data set performance\n",
    "print(\"Poly Performance Test : \", grid_poly.score(X_test,y_test))\n",
    "\n",
    "print('R2 score: ', r2_score(y_test,y_pred_poly))"
   ]
  },
  {
   "cell_type": "code",
   "execution_count": 26,
   "metadata": {},
   "outputs": [
    {
     "name": "stdout",
     "output_type": "stream",
     "text": [
      "train score:  0.640558018506303\n",
      "Best Mean Cross-validation score: 0.60\n",
      "\n",
      "Decision Tree parameters:  {'max_depth': 2, 'max_leaf_nodes': 4, 'min_samples_leaf': 1}\n",
      "Decision Tree Performance:  0.6324502299210157\n",
      "R2 score:  0.6324502299210157\n"
     ]
    }
   ],
   "source": [
    "# Train a Decision Tree regression model\n",
    "\n",
    "from sklearn.tree import DecisionTreeRegressor\n",
    "\n",
    "dtree = DecisionTreeRegressor(random_state=0)\n",
    "\n",
    "#define a list of parameters\n",
    "param_dtree = {'max_depth': range(1,20), 'min_samples_leaf' : range(1,10), 'max_leaf_nodes': range(2,5)}\n",
    "\n",
    "#apply grid search\n",
    "grid_dtree = GridSearchCV(dtree, param_dtree, cv=5, return_train_score = True)\n",
    "grid_dtree.fit(X_train, y_train)\n",
    "\n",
    "y_pred_tree = grid_dtree.predict(X_test)\n",
    "\n",
    "print('train score: ', grid_dtree.score(X_train, y_train))\n",
    "\n",
    "# Mean Cross Validation Score\n",
    "print(\"Best Mean Cross-validation score: {:.2f}\".format(grid_dtree.best_score_))\n",
    "print()\n",
    "\n",
    "#find best parameters\n",
    "print('Decision Tree parameters: ', grid_dtree.best_params_)\n",
    "\n",
    "# Check test data set performance\n",
    "print(\"Decision Tree Performance: \", grid_dtree.score(X_test,y_test))\n",
    "\n",
    "print('R2 score: ', r2_score(y_test,y_pred_tree))"
   ]
  },
  {
   "cell_type": "code",
   "execution_count": 27,
   "metadata": {},
   "outputs": [
    {
     "name": "stdout",
     "output_type": "stream",
     "text": [
      "Fitting 5 folds for each of 6 candidates, totalling 30 fits\n"
     ]
    },
    {
     "name": "stderr",
     "output_type": "stream",
     "text": [
      "[Parallel(n_jobs=-1)]: Using backend LokyBackend with 8 concurrent workers.\n"
     ]
    },
    {
     "name": "stdout",
     "output_type": "stream",
     "text": [
      "SVM parameters:  {'C': 1000}\n",
      "train score:  0.8985978702323993\n",
      "Best Mean Cross-validation score: 0.88\n",
      "SVM Tree Performance:  0.8614605935691882\n",
      "r2_score:  0.8614605935691882\n"
     ]
    },
    {
     "name": "stderr",
     "output_type": "stream",
     "text": [
      "[Parallel(n_jobs=-1)]: Done  30 out of  30 | elapsed:    0.2s finished\n"
     ]
    }
   ],
   "source": [
    "# Train a Linear SVM model\n",
    "\n",
    "from sklearn.svm import LinearSVR,SVR\n",
    "import warnings\n",
    "\n",
    "lin_svr = LinearSVR()\n",
    "\n",
    "param_grid_linearSVR = {'C' : [ 0.01, 0.1, 1, 10, 100, 1000]}\n",
    "\n",
    "CV_linearSVR_class = GridSearchCV(estimator = lin_svr, param_grid = param_grid_linearSVR ,cv = 5, verbose = 1, n_jobs = -1, return_train_score = True)\n",
    "GS_results_linearSVR = CV_linearSVR_class.fit(X_train, y_train)\n",
    "\n",
    "y_pred_svr = GS_results_linearSVR.predict(X_test)\n",
    "\n",
    "best_parameters_linearSVR_class = CV_linearSVR_class.best_params_\n",
    "\n",
    "#find best parameters\n",
    "print('SVM parameters: ', best_parameters_linearSVR_class)\n",
    "\n",
    "print('train score: ', GS_results_linearSVR.score(X_train, y_train))\n",
    "\n",
    "print(\"Best Mean Cross-validation score: {:.2f}\".format(GS_results_linearSVR.best_score_))\n",
    "\n",
    "# Check test data set performance\n",
    "print(\"SVM Tree Performance: \", GS_results_linearSVR.score(X_test,y_test))\n",
    "\n",
    "print('r2_score: ', r2_score(y_test,y_pred_svr))"
   ]
  },
  {
   "cell_type": "code",
   "execution_count": 28,
   "metadata": {},
   "outputs": [
    {
     "name": "stdout",
     "output_type": "stream",
     "text": [
      "train score:  0.8272835833533395\n",
      "Best parameters: {'C': 10000, 'gamma': 0.001}\n",
      "Best Mean cross-validation score: 0.80\n",
      "Performance:  0.7163994551344542\n",
      "r2_score:  0.7163994551344542\n"
     ]
    }
   ],
   "source": [
    "# Train a Kernelized Support Vector Machine\n",
    "\n",
    "svr_kernel = SVR(kernel = 'rbf')\n",
    "#define a list of parameters\n",
    "param_grid_svr = {'C': [0.1, 1, 10, 100, 1000, 10000],'gamma':[0.001, 0.01, 0.1, 1, 10, 100]}\n",
    "\n",
    "#apply grid search\n",
    "grid_svr_kernel = GridSearchCV(estimator = svr_kernel, param_grid = param_grid_svr, cv=5, n_jobs = -1, return_train_score = True)\n",
    "grid_svr_kernel.fit(X_train, y_train)\n",
    "\n",
    "y_pred_rbf = grid_svr_kernel.predict(X_test)\n",
    "\n",
    "print('train score: ', grid_svr_kernel.score(X_train, y_train))\n",
    "\n",
    "print(\"Best parameters: {}\".format(grid_svr_kernel.best_params_))\n",
    "\n",
    "print(\"Best Mean cross-validation score: {:.2f}\".format(grid_svr_kernel.best_score_))\n",
    "print(\"Performance: \", grid_svr_kernel.score(X_test,y_test))\n",
    "\n",
    "print('r2_score: ', r2_score(y_test,y_pred_rbf))"
   ]
  },
  {
   "cell_type": "code",
   "execution_count": 29,
   "metadata": {},
   "outputs": [
    {
     "name": "stdout",
     "output_type": "stream",
     "text": [
      "train score:  0.8958120169864239\n",
      "Best parameters: {'C': 10000, 'degree': 1}\n",
      "Best Mean cross-validation score: 0.88\n",
      "Performance:  0.860735304669824\n",
      "r2_score:  0.8607353046698241\n"
     ]
    }
   ],
   "source": [
    "svr_kernel = SVR(kernel = 'poly')\n",
    "#define a list of parameters\n",
    "param_grid_svr_P = {'C': [1, 10, 100,1000,10000],'degree':[1,3]}\n",
    "\n",
    "#apply grid search\n",
    "grid_svr_kernel_P = GridSearchCV(estimator = svr_kernel, param_grid = param_grid_svr_P, cv=5, n_jobs = -1, return_train_score = True)\n",
    "grid_svr_kernel_P.fit(X_train, y_train)\n",
    "\n",
    "y_pred_poly_P = grid_svr_kernel_P.predict(X_test)\n",
    "\n",
    "print('train score: ', grid_svr_kernel_P.score(X_train, y_train))\n",
    "\n",
    "print(\"Best parameters: {}\".format(grid_svr_kernel_P.best_params_))\n",
    "\n",
    "print(\"Best Mean cross-validation score: {:.2f}\".format(grid_svr_kernel_P.best_score_))\n",
    "print(\"Performance: \", grid_svr_kernel_P.score(X_test,y_test))\n",
    "\n",
    "print('r2_score: ', r2_score(y_test,y_pred_poly_P))"
   ]
  },
  {
   "cell_type": "code",
   "execution_count": 30,
   "metadata": {},
   "outputs": [
    {
     "name": "stdout",
     "output_type": "stream",
     "text": [
      "train score:  0.7948480055794955\n",
      "Best parameters: {'C': 10000, 'gamma': 0.001}\n",
      "Best Mean cross-validation score: 0.76\n",
      "Performance:  0.749803095245099\n",
      "r2_score:  0.749803095245099\n"
     ]
    }
   ],
   "source": [
    "svr_kernel = SVR(kernel = 'sigmoid')\n",
    "#define a list of parameters\n",
    "param_grid_svr_S = {'C': [1, 10, 100,1000,10000], 'gamma':[0.001, 0.01, 0.1, 1, 10, 100]}\n",
    "\n",
    "#apply grid search\n",
    "grid_svr_kernel_S = GridSearchCV(estimator = svr_kernel, param_grid = param_grid_svr_S, cv=5, n_jobs = -1, return_train_score = True)\n",
    "grid_svr_kernel_S.fit(X_train, y_train)\n",
    "\n",
    "y_pred_sigmoid = grid_svr_kernel_S.predict(X_test)\n",
    "\n",
    "print('train score: ', grid_svr_kernel_S.score(X_train, y_train))\n",
    "\n",
    "print(\"Best parameters: {}\".format(grid_svr_kernel_S.best_params_))\n",
    "\n",
    "print(\"Best Mean cross-validation score: {:.2f}\".format(grid_svr_kernel_S.best_score_))\n",
    "print(\"Performance: \", grid_svr_kernel_S.score(X_test,y_test))\n",
    "\n",
    "print('r2_score: ', r2_score(y_test,y_pred_sigmoid))"
   ]
  },
  {
   "cell_type": "markdown",
   "metadata": {
    "ExecuteTime": {
     "end_time": "2020-03-09T03:59:33.754940Z",
     "start_time": "2020-03-09T03:59:33.751933Z"
    }
   },
   "source": [
    "## Tune Multiple Models with one GridSearch"
   ]
  },
  {
   "cell_type": "code",
   "execution_count": 31,
   "metadata": {
    "ExecuteTime": {
     "end_time": "2020-03-09T07:33:43.119468Z",
     "start_time": "2020-03-09T07:33:43.115457Z"
    }
   },
   "outputs": [],
   "source": [
    "model_gs = Pipeline([(\"regressor\", LinearRegression())])"
   ]
  },
  {
   "cell_type": "code",
   "execution_count": 32,
   "metadata": {
    "ExecuteTime": {
     "end_time": "2020-03-09T07:33:44.906746Z",
     "start_time": "2020-03-09T07:33:44.900729Z"
    }
   },
   "outputs": [],
   "source": [
    "model_parm_gd = [\n",
    "    { 'regressor': [LinearRegression()]},\n",
    "    \n",
    "    { 'regressor': [Ridge()],\n",
    "      'regressor__alpha':[0.001, 0.01, 0.1, 1, 10, 100,200] },\n",
    "    \n",
    "    { 'regressor': [Lasso(random_state=0)],\n",
    "      'regressor__alpha':[0.001, 0.01, 0.1, 1, 10, 100,200]},\n",
    " \n",
    "]"
   ]
  },
  {
   "cell_type": "code",
   "execution_count": 33,
   "metadata": {
    "ExecuteTime": {
     "end_time": "2020-03-09T07:33:46.478370Z",
     "start_time": "2020-03-09T07:33:46.475362Z"
    }
   },
   "outputs": [],
   "source": [
    "grid_search_house_pipe = GridSearchCV(model_gs, model_parm_gd)"
   ]
  },
  {
   "cell_type": "code",
   "execution_count": 34,
   "metadata": {
    "ExecuteTime": {
     "end_time": "2020-03-09T07:33:48.862449Z",
     "start_time": "2020-03-09T07:33:47.915915Z"
    }
   },
   "outputs": [
    {
     "data": {
      "text/plain": [
       "GridSearchCV(cv=None, error_score=nan,\n",
       "             estimator=Pipeline(memory=None,\n",
       "                                steps=[('regressor',\n",
       "                                        LinearRegression(copy_X=True,\n",
       "                                                         fit_intercept=True,\n",
       "                                                         n_jobs=None,\n",
       "                                                         normalize=False))],\n",
       "                                verbose=False),\n",
       "             iid='deprecated', n_jobs=None,\n",
       "             param_grid=[{'regressor': [LinearRegression(copy_X=True,\n",
       "                                                         fit_intercept=True,\n",
       "                                                         n_jobs=None,\n",
       "                                                         normalize=False)]},\n",
       "                         {'regressor': [Ridge(alpha=100, copy...\n",
       "                          'regressor__alpha': [0.001, 0.01, 0.1, 1, 10, 100,\n",
       "                                               200]},\n",
       "                         {'regressor': [Lasso(alpha=1.0, copy_X=True,\n",
       "                                              fit_intercept=True, max_iter=1000,\n",
       "                                              normalize=False, positive=False,\n",
       "                                              precompute=False, random_state=0,\n",
       "                                              selection='cyclic', tol=0.0001,\n",
       "                                              warm_start=False)],\n",
       "                          'regressor__alpha': [0.001, 0.01, 0.1, 1, 10, 100,\n",
       "                                               200]}],\n",
       "             pre_dispatch='2*n_jobs', refit=True, return_train_score=False,\n",
       "             scoring=None, verbose=0)"
      ]
     },
     "execution_count": 34,
     "metadata": {},
     "output_type": "execute_result"
    }
   ],
   "source": [
    "grid_search_house_pipe.fit(X_train,y_train)"
   ]
  },
  {
   "cell_type": "code",
   "execution_count": 35,
   "metadata": {
    "ExecuteTime": {
     "end_time": "2020-03-09T07:33:50.694053Z",
     "start_time": "2020-03-09T07:33:50.690545Z"
    }
   },
   "outputs": [
    {
     "name": "stdout",
     "output_type": "stream",
     "text": [
      "{'regressor': Ridge(alpha=100, copy_X=True, fit_intercept=True, max_iter=None,\n",
      "      normalize=False, random_state=None, solver='auto', tol=0.001), 'regressor__alpha': 100}\n"
     ]
    }
   ],
   "source": [
    "print(grid_search_house_pipe.best_params_)"
   ]
  },
  {
   "cell_type": "code",
   "execution_count": 36,
   "metadata": {
    "ExecuteTime": {
     "end_time": "2020-03-09T07:33:51.930133Z",
     "start_time": "2020-03-09T07:33:51.922105Z"
    }
   },
   "outputs": [],
   "source": [
    "# let's get the predictions\n",
    "X_train_preds = grid_search_house_pipe.predict(X_train)\n",
    "X_test_preds = grid_search_house_pipe.predict(X_test)"
   ]
  },
  {
   "cell_type": "code",
   "execution_count": 37,
   "metadata": {
    "ExecuteTime": {
     "end_time": "2020-03-09T07:33:54.122514Z",
     "start_time": "2020-03-09T07:33:54.118504Z"
    }
   },
   "outputs": [
    {
     "name": "stdout",
     "output_type": "stream",
     "text": [
      "Best Mean Cross-validation score: 0.88\n"
     ]
    }
   ],
   "source": [
    "print(\"Best Mean Cross-validation score: {:.2f}\".format(grid_search_house_pipe.best_score_))"
   ]
  },
  {
   "cell_type": "code",
   "execution_count": 38,
   "metadata": {
    "ExecuteTime": {
     "end_time": "2020-03-09T07:33:56.073138Z",
     "start_time": "2020-03-09T07:33:56.060105Z"
    }
   },
   "outputs": [
    {
     "name": "stdout",
     "output_type": "stream",
     "text": [
      "train mse: 559886970.9352162\n",
      "train rmse: 23661.93083700517\n",
      "train r2: 0.9103295889443213\n",
      "\n",
      "test mse: 871707753.5558221\n",
      "test rmse: 29524.69734909779\n",
      "test r2: 0.8731529205790172\n"
     ]
    }
   ],
   "source": [
    "# check model performance:\n",
    "from sklearn.metrics import mean_squared_error\n",
    "from sklearn.metrics import r2_score\n",
    "\n",
    "print('train mse: {}'.format(mean_squared_error(y_train, X_train_preds)))\n",
    "print('train rmse: {}'.format(sqrt(mean_squared_error(y_train, X_train_preds))))\n",
    "print('train r2: {}'.format(r2_score(y_train, X_train_preds)))\n",
    "print()\n",
    "print('test mse: {}'.format(mean_squared_error(y_test, X_test_preds)))\n",
    "print('test rmse: {}'.format(sqrt(mean_squared_error(y_test, X_test_preds))))\n",
    "print('test r2: {}'.format(r2_score(y_test, X_test_preds)))"
   ]
  },
  {
   "cell_type": "markdown",
   "metadata": {},
   "source": [
    "# Ensemble Models"
   ]
  },
  {
   "cell_type": "code",
   "execution_count": 39,
   "metadata": {},
   "outputs": [
    {
     "name": "stdout",
     "output_type": "stream",
     "text": [
      "Best Mean Cross Validation Score is 0.8722900792200419\n",
      "Best Mean Cross Validation Score is {'base_estimator__max_depth': 9, 'max_samples': 0.8, 'n_estimators': 100}\n",
      "Train score is 0.963722616694338\n",
      "Test score is 0.8603296190869036\n",
      "r2_score:  0.8603296190869036\n"
     ]
    }
   ],
   "source": [
    "# Train decision tree model with bagging\n",
    "from sklearn.ensemble import BaggingRegressor\n",
    "bag_dtree1 = BaggingRegressor(base_estimator=DecisionTreeRegressor(), bootstrap=True, random_state=0, oob_score=False)\n",
    "\n",
    "bag_dtree1_param = {\n",
    "                 'base_estimator__max_depth': range(1,10),\n",
    "                 'max_samples':  [0.8,1],\n",
    "                 'n_estimators': [10,25,100]}\n",
    "bag_dtree1_grid = GridSearchCV(bag_dtree1, bag_dtree1_param,cv=5, return_train_score=True, )\n",
    "bag_dtree1_grid.fit(X_train,y_train)\n",
    "\n",
    "y_pred = bag_dtree1_grid.predict(X_test)\n",
    "\n",
    "print(f'Best Mean Cross Validation Score is {bag_dtree1_grid.best_score_}')\n",
    "print(f'Best Mean Cross Validation Score is {bag_dtree1_grid.best_params_}')\n",
    "print(f'Train score is {bag_dtree1_grid.score(X_train,y_train)}')\n",
    "print(f'Test score is {bag_dtree1_grid.score(X_test,y_test)}')\n",
    "print('r2_score: ', r2_score(y_test,y_pred))"
   ]
  },
  {
   "cell_type": "code",
   "execution_count": 40,
   "metadata": {},
   "outputs": [
    {
     "name": "stdout",
     "output_type": "stream",
     "text": [
      "Best Mean Cross Validation Score is 0.7390579281612463\n",
      "Best Mean Cross Validation Score is {'max_samples': 0.8, 'n_estimators': 100}\n",
      "Train score is 0.7618207029233857\n",
      "Test score is 0.7450475002324456\n",
      "r2_score:  0.7450475002324456\n"
     ]
    }
   ],
   "source": [
    "bag_dtree2 = BaggingRegressor(DecisionTreeRegressor(max_depth= 7, max_leaf_nodes=5, min_samples_split= 3, splitter= 'random'), bootstrap=True, random_state=0, oob_score=False)\n",
    "\n",
    "bag_dtree2_param = {\n",
    "                 'max_samples':  [0.8,1],\n",
    "                 'n_estimators': [10,25,100]}\n",
    "bag_dtree2_grid = GridSearchCV(bag_dtree2, bag_dtree2_param,cv=5, return_train_score=True, )\n",
    "bag_dtree2_grid.fit(X_train,y_train)\n",
    "\n",
    "y_pred = bag_dtree2_grid.predict(X_test)\n",
    "\n",
    "print(f'Best Mean Cross Validation Score is {bag_dtree2_grid.best_score_}')\n",
    "print(f'Best Mean Cross Validation Score is {bag_dtree2_grid.best_params_}')\n",
    "print(f'Train score is {bag_dtree2_grid.score(X_train,y_train)}')\n",
    "print(f'Test score is {bag_dtree2_grid.score(X_test,y_test)}')\n",
    "print('r2_score: ', r2_score(y_test,y_pred))"
   ]
  },
  {
   "cell_type": "code",
   "execution_count": 41,
   "metadata": {},
   "outputs": [
    {
     "name": "stdout",
     "output_type": "stream",
     "text": [
      "Best Mean Cross Validation Score is 0.8904837206324174\n",
      "Best Mean Cross Validation Score is {'base_estimator__alpha': 200, 'max_samples': 0.8, 'n_estimators': 25}\n",
      "Train score is 0.9098098316617025\n",
      "Test score is 0.8801007837659143\n",
      "r2_score:  0.8801007837659142\n"
     ]
    }
   ],
   "source": [
    "import warnings\n",
    "warnings.filterwarnings('ignore')\n",
    "\n",
    "bag_lasso = BaggingRegressor(base_estimator=Lasso(), bootstrap=True, random_state=0, oob_score=False)\n",
    "\n",
    "bag_lasso_param = {\n",
    "                 'base_estimator__alpha': [0.01, 0.1, 1, 10, 100, 200],\n",
    "                 'max_samples':  [0.8,1],\n",
    "                 'n_estimators': [10,25,100]}\n",
    "bag_lasso_grid = GridSearchCV(bag_lasso, bag_lasso_param,cv=6, return_train_score=True, )\n",
    "bag_lasso_grid.fit(X_train,y_train)\n",
    "\n",
    "y_pred = bag_lasso_grid.predict(X_test)\n",
    "\n",
    "print(f'Best Mean Cross Validation Score is {bag_lasso_grid.best_score_}')\n",
    "print(f'Best Mean Cross Validation Score is {bag_lasso_grid.best_params_}')\n",
    "print(f'Train score is {bag_lasso_grid.score(X_train,y_train)}')\n",
    "print(f'Test score is {bag_lasso_grid.score(X_test,y_test)}')\n",
    "print('r2_score: ', r2_score(y_test,y_pred))"
   ]
  },
  {
   "cell_type": "code",
   "execution_count": 42,
   "metadata": {},
   "outputs": [
    {
     "name": "stdout",
     "output_type": "stream",
     "text": [
      "Best Mean Cross Validation Score is 0.8557999384854416\n",
      "Best Mean Cross Validation Score is {'base_estimator__max_depth': 9, 'max_samples': 0.8, 'n_estimators': 100}\n",
      "Train score is 0.977548776732943\n",
      "Test score is 0.8644842558983825\n",
      "r2_score:  0.8644842558983825\n"
     ]
    }
   ],
   "source": [
    "# Train decision tree model with pasting\n",
    "paste_dtree1 = BaggingRegressor(base_estimator=DecisionTreeRegressor(), bootstrap=False, random_state=0, oob_score=False)\n",
    "\n",
    "paste_dtree1_param = {\n",
    "                 'base_estimator__max_depth': range(1,10),\n",
    "                 'max_samples':  [0.8,1],\n",
    "                 'n_estimators': [10,25,100]}\n",
    "paste_dtree1_grid = GridSearchCV(paste_dtree1, paste_dtree1_param,cv=5, return_train_score=True, )\n",
    "paste_dtree1_grid.fit(X_train,y_train)\n",
    "\n",
    "y_pred = paste_dtree1_grid.predict(X_test)\n",
    "\n",
    "print(f'Best Mean Cross Validation Score is {paste_dtree1_grid.best_score_}')\n",
    "print(f'Best Mean Cross Validation Score is {paste_dtree1_grid.best_params_}')\n",
    "print(f'Train score is {paste_dtree1_grid.score(X_train,y_train)}')\n",
    "print(f'Test score is {paste_dtree1_grid.score(X_test,y_test)}')\n",
    "print('r2_score: ', r2_score(y_test,y_pred))"
   ]
  },
  {
   "cell_type": "code",
   "execution_count": 43,
   "metadata": {},
   "outputs": [
    {
     "name": "stdout",
     "output_type": "stream",
     "text": [
      "Best Mean Cross Validation Score is 0.733627122113246\n",
      "Best Mean Cross Validation Score is {'max_samples': 0.8, 'n_estimators': 100}\n",
      "Train score is 0.7595738266871113\n",
      "Test score is 0.735303611801938\n",
      "r2_score:  0.735303611801938\n"
     ]
    }
   ],
   "source": [
    "paste_dtree2 = BaggingRegressor(DecisionTreeRegressor(max_depth= 7, max_leaf_nodes=5, min_samples_split= 3, splitter= 'random'), bootstrap=False, random_state=0, oob_score=False)\n",
    "\n",
    "paste_dtree2_param = {\n",
    "                 'max_samples':  [0.8,1],\n",
    "                 'n_estimators': [10,25,100]}\n",
    "paste_dtree2_grid = GridSearchCV(paste_dtree2, paste_dtree2_param,cv=5, return_train_score=True, )\n",
    "paste_dtree2_grid.fit(X_train,y_train)\n",
    "\n",
    "y_pred = paste_dtree2_grid.predict(X_test)\n",
    "\n",
    "print(f'Best Mean Cross Validation Score is {paste_dtree2_grid.best_score_}')\n",
    "print(f'Best Mean Cross Validation Score is {paste_dtree2_grid.best_params_}')\n",
    "print(f'Train score is {paste_dtree2_grid.score(X_train,y_train)}')\n",
    "print(f'Test score is {paste_dtree2_grid.score(X_test,y_test)}')\n",
    "print('r2_score: ', r2_score(y_test,y_pred))"
   ]
  },
  {
   "cell_type": "code",
   "execution_count": 44,
   "metadata": {},
   "outputs": [
    {
     "name": "stdout",
     "output_type": "stream",
     "text": [
      "Best Mean Cross Validation Score is 0.8879929480714764\n",
      "Best Mean Cross Validation Score is {'base_estimator__alpha': 200, 'max_samples': 0.8, 'n_estimators': 10}\n",
      "Train score is 0.9104763218427087\n",
      "Test score is 0.8777647515774972\n",
      "r2_score:  0.8777647515774972\n"
     ]
    }
   ],
   "source": [
    "paste_lasso = BaggingRegressor(base_estimator=Lasso(), bootstrap=False, random_state=0, oob_score=False)\n",
    "\n",
    "paste_lasso_param = {\n",
    "                 'base_estimator__alpha': [0.01, 0.1, 1, 10, 100, 200],\n",
    "                 'max_samples':  [0.8,1],\n",
    "                 'n_estimators': [10,25,100]}\n",
    "paste_lasso_grid = GridSearchCV(paste_lasso, paste_lasso_param,cv=6, return_train_score=True, )\n",
    "paste_lasso_grid.fit(X_train,y_train)\n",
    "\n",
    "y_pred = paste_lasso_grid.predict(X_test)\n",
    "\n",
    "print(f'Best Mean Cross Validation Score is {paste_lasso_grid.best_score_}')\n",
    "print(f'Best Mean Cross Validation Score is {paste_lasso_grid.best_params_}')\n",
    "print(f'Train score is {paste_lasso_grid.score(X_train,y_train)}')\n",
    "print(f'Test score is {paste_lasso_grid.score(X_test,y_test)}')\n",
    "print('r2_score: ', r2_score(y_test,y_pred))"
   ]
  },
  {
   "cell_type": "code",
   "execution_count": 45,
   "metadata": {},
   "outputs": [
    {
     "name": "stdout",
     "output_type": "stream",
     "text": [
      "Best Mean Cross Validation Score is 0.8684018451123624\n",
      "Best Mean Cross Validation Score is {'criterion': 'mse', 'max_depth': 8, 'max_features': 'sqrt', 'n_estimators': 200}\n",
      "Train score is 0.9518111754018606\n",
      "Test score is 0.8620153277926287\n",
      "r2_score:  0.8620153277926287\n"
     ]
    }
   ],
   "source": [
    "# Train a Random Forest model\n",
    "from sklearn.ensemble import RandomForestRegressor\n",
    "\n",
    "rfr =RandomForestRegressor(random_state=42)\n",
    "rfr_param = { \n",
    "    'n_estimators': [200, 500],\n",
    "    'max_features': ['auto', 'sqrt', 'log2'],\n",
    "    'max_depth' : [2,4,5,6,7,8],\n",
    "    'criterion' :['mse', 'mae']\n",
    "}\n",
    "\n",
    "rfr_grid = GridSearchCV(rfr, rfr_param,cv=5, return_train_score=True, )\n",
    "rfr_grid.fit(X_train,y_train)\n",
    "\n",
    "y_pred = rfr_grid.predict(X_test)\n",
    "\n",
    "print(f'Best Mean Cross Validation Score is {rfr_grid.best_score_}')\n",
    "print(f'Best Mean Cross Validation Score is {rfr_grid.best_params_}')\n",
    "print(f'Train score is {rfr_grid.score(X_train,y_train)}')\n",
    "print(f'Test score is {rfr_grid.score(X_test,y_test)}')\n",
    "print('r2_score: ', r2_score(y_test,y_pred))"
   ]
  },
  {
   "cell_type": "code",
   "execution_count": 46,
   "metadata": {},
   "outputs": [
    {
     "name": "stdout",
     "output_type": "stream",
     "text": [
      "Best Mean Cross Validation Score is 0.8670305610889916\n",
      "Best Mean Cross Validation Score is {'criterion': 'mse', 'max_depth': 8, 'max_features': 'auto', 'n_estimators': 500}\n",
      "Train score is 0.9727567527434288\n",
      "Test score is 0.8552179473762773\n",
      "r2_score:  0.8552179473762773\n"
     ]
    }
   ],
   "source": [
    "# Train an ExtraTree model\n",
    "from  sklearn.ensemble import ExtraTreesRegressor\n",
    "\n",
    "etr= ExtraTreesRegressor(random_state=42)\n",
    "etr_param = { \n",
    "    'n_estimators': [200, 500],\n",
    "    'max_features': ['auto', 'sqrt', 'log2'],\n",
    "    'max_depth' : [2,4,5,6,7,8],\n",
    "    'criterion' :['mse', 'mae']\n",
    "}\n",
    "etr_grid = GridSearchCV(etr, etr_param,cv=5, return_train_score=True, )\n",
    "etr_grid.fit(X_train,y_train)\n",
    "\n",
    "y_pred = etr_grid.predict(X_test)\n",
    "\n",
    "print(f'Best Mean Cross Validation Score is {etr_grid.best_score_}')\n",
    "print(f'Best Mean Cross Validation Score is {etr_grid.best_params_}')\n",
    "print(f'Train score is {etr_grid.score(X_train,y_train)}')\n",
    "print(f'Test score is {etr_grid.score(X_test,y_test)}')\n",
    "print('r2_score: ', r2_score(y_test,y_pred))"
   ]
  },
  {
   "cell_type": "code",
   "execution_count": 47,
   "metadata": {},
   "outputs": [
    {
     "name": "stdout",
     "output_type": "stream",
     "text": [
      "Best Mean Cross Validation Score is 0.8731237811314138\n",
      "Best Mean Cross Validation Score is {'base_estimator__criterion': 'mse', 'base_estimator__max_depth': 6, 'base_estimator__splitter': 'best', 'learning_rate': 2, 'n_estimators': 100}\n",
      "Train score is 0.9623020124499386\n",
      "Test score is 0.8698379324389934\n",
      "r2_score:  0.8698379324389933\n"
     ]
    }
   ],
   "source": [
    "# Train an AdaBoost model\n",
    "from sklearn.ensemble import AdaBoostRegressor\n",
    "\n",
    "adr_dtree =AdaBoostRegressor(base_estimator=DecisionTreeRegressor(),random_state=42)\n",
    "adr_dtree_param = {\n",
    "              'base_estimator__criterion' : [\"mse\", \"mae\"],\n",
    "              'base_estimator__splitter' :   [\"best\", \"random\"],\n",
    "              'base_estimator__max_depth' : [2,4,6],\n",
    "              'n_estimators' : [100,150],\n",
    "              'learning_rate' : [0.5,1.0,2],\n",
    "             }\n",
    "adr_dtree_grid = GridSearchCV(adr_dtree, adr_dtree_param,cv=5, return_train_score=True, )\n",
    "adr_dtree_grid.fit(X_train,y_train)\n",
    "\n",
    "y_pred = adr_dtree_grid.predict(X_test)\n",
    "\n",
    "print(f'Best Mean Cross Validation Score is {adr_dtree_grid.best_score_}')\n",
    "print(f'Best Mean Cross Validation Score is {adr_dtree_grid.best_params_}')\n",
    "print(f'Train score is {adr_dtree_grid.score(X_train,y_train)}')\n",
    "print(f'Test score is {adr_dtree_grid.score(X_test,y_test)}')\n",
    "print('r2_score: ', r2_score(y_test,y_pred))"
   ]
  },
  {
   "cell_type": "code",
   "execution_count": 63,
   "metadata": {},
   "outputs": [
    {
     "name": "stdout",
     "output_type": "stream",
     "text": [
      "Best Mean Cross Validation Score is 0.8693214037454589\n",
      "Best Mean Cross Validation Score is {'learning_rate': 0.5, 'max_depth': 3, 'n_estimators': 100}\n",
      "Train score is 0.9845482194901631\n",
      "Test score is 0.8834970768587678\n",
      "r2_score:  0.8834970768587678\n"
     ]
    }
   ],
   "source": [
    "# Train a Gradient Boosting model\n",
    "from  sklearn.ensemble import GradientBoostingRegressor\n",
    "gbr= GradientBoostingRegressor(random_state=42)\n",
    "gbr_param = {\n",
    "              'max_depth' : [2,3,4],\n",
    "              'n_estimators' : [100,150],\n",
    "              'learning_rate' : [0.5,1.0,2],\n",
    "             }\n",
    "gbr_grid = GridSearchCV(gbr, gbr_param,cv=5, return_train_score=True, )\n",
    "gbr_grid.fit(X_train,y_train)\n",
    "\n",
    "y_pred = gbr_grid.predict(X_test)\n",
    "\n",
    "print(f'Best Mean Cross Validation Score is {gbr_grid.best_score_}')\n",
    "print(f'Best Mean Cross Validation Score is {gbr_grid.best_params_}')\n",
    "print(f'Train score is {gbr_grid.score(X_train,y_train)}')\n",
    "print(f'Test score is {gbr_grid.score(X_test,y_test)}')\n",
    "print('r2_score: ', r2_score(y_test,y_pred))"
   ]
  },
  {
   "cell_type": "code",
   "execution_count": 49,
   "metadata": {},
   "outputs": [
    {
     "name": "stdout",
     "output_type": "stream",
     "text": [
      "Requirement already satisfied: xgboost in c:\\users\\rahul\\anaconda3\\envs\\buan6341_2020\\lib\\site-packages (1.0.2)\n",
      "Requirement already satisfied: numpy in c:\\users\\rahul\\anaconda3\\envs\\buan6341_2020\\lib\\site-packages (from xgboost) (1.18.1)\n",
      "Requirement already satisfied: scipy in c:\\users\\rahul\\anaconda3\\envs\\buan6341_2020\\lib\\site-packages (from xgboost) (1.3.0)\n",
      "Note: you may need to restart the kernel to use updated packages.\n"
     ]
    }
   ],
   "source": [
    "pip install xgboost"
   ]
  },
  {
   "cell_type": "code",
   "execution_count": 50,
   "metadata": {},
   "outputs": [
    {
     "name": "stdout",
     "output_type": "stream",
     "text": [
      "Best Mean Cross Validation Score is 0.8981992683459357\n",
      "Best Mean Cross Validation Score is {'learning_rate': 0.1, 'max_depth': 4, 'min_child_weight': 1, 'n_estimators': 150, 'subsample': 0.8}\n",
      "Train score is 0.979396879296572\n",
      "Test score is 0.8776048030903614\n",
      "r2_score:  0.8776048030903614\n"
     ]
    }
   ],
   "source": [
    "# Train a XGBoost model\n",
    "from  xgboost import XGBRegressor\n",
    "xgbr= XGBRegressor(random_state=42,early_stopping_rounds=2)\n",
    "xgbr_param = {\n",
    "              'max_depth' : [2,4,6],\n",
    "              'n_estimators' : [50,100,150],\n",
    "              'learning_rate' : [0.1,0.5,0.6,0.8],\n",
    "               'min_child_weight' : [1,3,5,7],\n",
    "                'subsample':[0.6,0.7,0.8,0.9,1]\n",
    "             }\n",
    "xgbr_grid = GridSearchCV(xgbr, xgbr_param,cv=5, return_train_score=True, )\n",
    "xgbr_grid.fit(X_train,y_train)\n",
    "y_pred = xgbr_grid.predict(X_test)\n",
    "\n",
    "print(f'Best Mean Cross Validation Score is {xgbr_grid.best_score_}')\n",
    "print(f'Best Mean Cross Validation Score is {xgbr_grid.best_params_}')\n",
    "print(f'Train score is {xgbr_grid.score(X_train,y_train)}')\n",
    "print(f'Test score is {xgbr_grid.score(X_test,y_test)}')\n",
    "print('r2_score: ', r2_score(y_test,y_pred))"
   ]
  },
  {
   "cell_type": "markdown",
   "metadata": {},
   "source": [
    "# Summary"
   ]
  },
  {
   "cell_type": "code",
   "execution_count": 51,
   "metadata": {},
   "outputs": [],
   "source": [
    "regressors={'knn':grid_knn,\n",
    "             'lsvr':CV_linearSVR_class,\n",
    "             'ridge':grid_ridge,\n",
    "             'lasso':grid_lasso,\n",
    "             'elasticnet':grid_elasticnet,\n",
    "             'polynomial':grid_poly,\n",
    "             'linearsgd':grid_sgd,\n",
    "             'ksvr_R':grid_svr_kernel,\n",
    "             'ksvr_P':grid_svr_kernel_P,\n",
    "             'ksvr_S':grid_svr_kernel_S,\n",
    "             'dtree':grid_dtree,\n",
    "             'bag_dtree1':bag_dtree1_grid,\n",
    "             'bag_dtree1':bag_dtree2_grid,\n",
    "             'bag_lasso':bag_lasso_grid,\n",
    "             'paste_dtree1': paste_dtree1_grid,\n",
    "             'paste_dtree1':paste_dtree2_grid,\n",
    "             'paste_lasso': paste_lasso_grid,\n",
    "             'rfr': rfr_grid,\n",
    "             'etr': etr_grid,\n",
    "             'adr_dtree':adr_dtree_grid,\n",
    "             'gbr': gbr_grid,\n",
    "             'xgbr': xgbr_grid}"
   ]
  },
  {
   "cell_type": "code",
   "execution_count": 52,
   "metadata": {},
   "outputs": [
    {
     "data": {
      "text/plain": [
       "dict_keys(['knn', 'lsvr', 'ridge', 'lasso', 'elasticnet', 'polynomial', 'linearsgd', 'ksvr_R', 'ksvr_P', 'ksvr_S', 'dtree', 'bag_dtree1', 'bag_lasso', 'paste_dtree1', 'paste_lasso', 'rfr', 'etr', 'adr_dtree', 'gbr', 'xgbr'])"
      ]
     },
     "execution_count": 52,
     "metadata": {},
     "output_type": "execute_result"
    }
   ],
   "source": [
    "regressors.keys()"
   ]
  },
  {
   "cell_type": "code",
   "execution_count": 53,
   "metadata": {},
   "outputs": [],
   "source": [
    "results_mean_std = []\n",
    "for  key, value in regressors.items():\n",
    "    mean = value.cv_results_['mean_test_score'][value.best_index_]\n",
    "    std=value.cv_results_['std_test_score'][value.best_index_]\n",
    "     \n",
    "    results_mean_std.append({\n",
    "        \"model\": key,\n",
    "        \"mean\": mean,\n",
    "        \"std\": std\n",
    "    })"
   ]
  },
  {
   "cell_type": "code",
   "execution_count": 54,
   "metadata": {},
   "outputs": [],
   "source": [
    "# Create a Pandas DataFrame with the mean+std results\n",
    "accuracy_df = pd.DataFrame(results_mean_std, columns=['model', 'mean', 'std'])"
   ]
  },
  {
   "cell_type": "code",
   "execution_count": 64,
   "metadata": {},
   "outputs": [
    {
     "data": {
      "text/html": [
       "<div>\n",
       "<style scoped>\n",
       "    .dataframe tbody tr th:only-of-type {\n",
       "        vertical-align: middle;\n",
       "    }\n",
       "\n",
       "    .dataframe tbody tr th {\n",
       "        vertical-align: top;\n",
       "    }\n",
       "\n",
       "    .dataframe thead th {\n",
       "        text-align: right;\n",
       "    }\n",
       "</style>\n",
       "<table border=\"1\" class=\"dataframe\">\n",
       "  <thead>\n",
       "    <tr style=\"text-align: right;\">\n",
       "      <th></th>\n",
       "      <th>model</th>\n",
       "      <th>mean</th>\n",
       "      <th>std</th>\n",
       "    </tr>\n",
       "  </thead>\n",
       "  <tbody>\n",
       "    <tr>\n",
       "      <th>19</th>\n",
       "      <td>xgbr</td>\n",
       "      <td>0.898199</td>\n",
       "      <td>0.009513</td>\n",
       "    </tr>\n",
       "    <tr>\n",
       "      <th>12</th>\n",
       "      <td>bag_lasso</td>\n",
       "      <td>0.890484</td>\n",
       "      <td>0.022573</td>\n",
       "    </tr>\n",
       "    <tr>\n",
       "      <th>14</th>\n",
       "      <td>paste_lasso</td>\n",
       "      <td>0.887993</td>\n",
       "      <td>0.021267</td>\n",
       "    </tr>\n",
       "    <tr>\n",
       "      <th>2</th>\n",
       "      <td>ridge</td>\n",
       "      <td>0.887272</td>\n",
       "      <td>0.021502</td>\n",
       "    </tr>\n",
       "    <tr>\n",
       "      <th>3</th>\n",
       "      <td>lasso</td>\n",
       "      <td>0.886709</td>\n",
       "      <td>0.021101</td>\n",
       "    </tr>\n",
       "    <tr>\n",
       "      <th>5</th>\n",
       "      <td>polynomial</td>\n",
       "      <td>0.883737</td>\n",
       "      <td>0.011499</td>\n",
       "    </tr>\n",
       "    <tr>\n",
       "      <th>8</th>\n",
       "      <td>ksvr_P</td>\n",
       "      <td>0.880629</td>\n",
       "      <td>0.009731</td>\n",
       "    </tr>\n",
       "    <tr>\n",
       "      <th>6</th>\n",
       "      <td>linearsgd</td>\n",
       "      <td>0.878717</td>\n",
       "      <td>0.012415</td>\n",
       "    </tr>\n",
       "    <tr>\n",
       "      <th>1</th>\n",
       "      <td>lsvr</td>\n",
       "      <td>0.877787</td>\n",
       "      <td>0.010718</td>\n",
       "    </tr>\n",
       "    <tr>\n",
       "      <th>17</th>\n",
       "      <td>adr_dtree</td>\n",
       "      <td>0.873124</td>\n",
       "      <td>0.013419</td>\n",
       "    </tr>\n",
       "    <tr>\n",
       "      <th>18</th>\n",
       "      <td>gbr</td>\n",
       "      <td>0.869321</td>\n",
       "      <td>0.019462</td>\n",
       "    </tr>\n",
       "    <tr>\n",
       "      <th>15</th>\n",
       "      <td>rfr</td>\n",
       "      <td>0.868402</td>\n",
       "      <td>0.016449</td>\n",
       "    </tr>\n",
       "    <tr>\n",
       "      <th>16</th>\n",
       "      <td>etr</td>\n",
       "      <td>0.867031</td>\n",
       "      <td>0.012046</td>\n",
       "    </tr>\n",
       "    <tr>\n",
       "      <th>4</th>\n",
       "      <td>elasticnet</td>\n",
       "      <td>0.862590</td>\n",
       "      <td>0.012369</td>\n",
       "    </tr>\n",
       "    <tr>\n",
       "      <th>0</th>\n",
       "      <td>knn</td>\n",
       "      <td>0.840482</td>\n",
       "      <td>0.017896</td>\n",
       "    </tr>\n",
       "    <tr>\n",
       "      <th>7</th>\n",
       "      <td>ksvr_R</td>\n",
       "      <td>0.803591</td>\n",
       "      <td>0.021727</td>\n",
       "    </tr>\n",
       "    <tr>\n",
       "      <th>9</th>\n",
       "      <td>ksvr_S</td>\n",
       "      <td>0.763244</td>\n",
       "      <td>0.018749</td>\n",
       "    </tr>\n",
       "    <tr>\n",
       "      <th>11</th>\n",
       "      <td>bag_dtree1</td>\n",
       "      <td>0.739058</td>\n",
       "      <td>0.022401</td>\n",
       "    </tr>\n",
       "    <tr>\n",
       "      <th>13</th>\n",
       "      <td>paste_dtree1</td>\n",
       "      <td>0.733627</td>\n",
       "      <td>0.028091</td>\n",
       "    </tr>\n",
       "    <tr>\n",
       "      <th>10</th>\n",
       "      <td>dtree</td>\n",
       "      <td>0.604978</td>\n",
       "      <td>0.031785</td>\n",
       "    </tr>\n",
       "  </tbody>\n",
       "</table>\n",
       "</div>"
      ],
      "text/plain": [
       "           model      mean       std\n",
       "19          xgbr  0.898199  0.009513\n",
       "12     bag_lasso  0.890484  0.022573\n",
       "14   paste_lasso  0.887993  0.021267\n",
       "2          ridge  0.887272  0.021502\n",
       "3          lasso  0.886709  0.021101\n",
       "5     polynomial  0.883737  0.011499\n",
       "8         ksvr_P  0.880629  0.009731\n",
       "6      linearsgd  0.878717  0.012415\n",
       "1           lsvr  0.877787  0.010718\n",
       "17     adr_dtree  0.873124  0.013419\n",
       "18           gbr  0.869321  0.019462\n",
       "15           rfr  0.868402  0.016449\n",
       "16           etr  0.867031  0.012046\n",
       "4     elasticnet  0.862590  0.012369\n",
       "0            knn  0.840482  0.017896\n",
       "7         ksvr_R  0.803591  0.021727\n",
       "9         ksvr_S  0.763244  0.018749\n",
       "11    bag_dtree1  0.739058  0.022401\n",
       "13  paste_dtree1  0.733627  0.028091\n",
       "10         dtree  0.604978  0.031785"
      ]
     },
     "execution_count": 64,
     "metadata": {},
     "output_type": "execute_result"
    }
   ],
   "source": [
    "# Show the accuracy dataframe\n",
    "\n",
    "accuracy_df.sort_values(by=['mean'], inplace=True,ascending=False)\n",
    "accuracy_df"
   ]
  },
  {
   "cell_type": "code",
   "execution_count": 56,
   "metadata": {},
   "outputs": [],
   "source": [
    "# Create a prediction of all models on the test set\n",
    "predictions_all = {}\n",
    "for  key, value in regressors.items():\n",
    "    # Get best estimator\n",
    "    best_model = value.best_estimator_\n",
    "    \n",
    "    # Predict test labels\n",
    "    predictions = best_model.predict(X_test)\n",
    "    \n",
    "    # Save predictions to a list\n",
    "    predictions_all[key] = predictions"
   ]
  },
  {
   "cell_type": "code",
   "execution_count": 57,
   "metadata": {},
   "outputs": [],
   "source": [
    "# Creat a DataFrame for the predictions\n",
    "pred = pd.DataFrame(predictions_all)"
   ]
  },
  {
   "cell_type": "code",
   "execution_count": 58,
   "metadata": {},
   "outputs": [
    {
     "data": {
      "text/plain": [
       "Text(0.5, 1, 'Correlation of the test set label prediction between models')"
      ]
     },
     "execution_count": 58,
     "metadata": {},
     "output_type": "execute_result"
    },
    {
     "data": {
      "image/png": "[encoded data removed]",
      "text/plain": [
       "<Figure size 648x432 with 2 Axes>"
      ]
     },
     "metadata": {
      "needs_background": "light"
     },
     "output_type": "display_data"
    }
   ],
   "source": [
    "# Plot a heatmap of all correlations for easier visualization\n",
    "fig, ax = plt.subplots(nrows=1, ncols=1, figsize=(9,6))\n",
    "g = sns.heatmap(pred.corr(), annot=True, cmap='coolwarm', ax=ax)\n",
    "g.set_title('Correlation of the test set label prediction between models')"
   ]
  },
  {
   "cell_type": "code",
   "execution_count": 59,
   "metadata": {},
   "outputs": [],
   "source": [
    "def get_redundant_pairs(df):\n",
    "    '''Get diagonal and lower triangular pairs of correlation matrix'''\n",
    "    pairs_to_drop = set()\n",
    "    cols = df.columns\n",
    "    for i in range(0, df.shape[1]):\n",
    "        for j in range(0, i+1):\n",
    "            pairs_to_drop.add((cols[i], cols[j]))\n",
    "    return pairs_to_drop\n",
    "\n",
    "def get_top_abs_correlations(df, n=5):\n",
    "    au_corr = df.corr().abs().unstack()\n",
    "    labels_to_drop = get_redundant_pairs(df)\n",
    "    au_corr = au_corr.drop(labels=labels_to_drop).sort_values(ascending=True)\n",
    "    return au_corr[0:n]"
   ]
  },
  {
   "cell_type": "code",
   "execution_count": 60,
   "metadata": {},
   "outputs": [
    {
     "name": "stdout",
     "output_type": "stream",
     "text": [
      "Top least Correlations\n",
      "dtree   gbr      0.813337\n",
      "knn     dtree    0.814900\n",
      "ksvr_R  dtree    0.822717\n",
      "lsvr    dtree    0.826213\n",
      "ksvr_P  dtree    0.828280\n",
      "dtype: float64\n"
     ]
    }
   ],
   "source": [
    "print(\"Top least Correlations\")\n",
    "print(get_top_abs_correlations(pred, 5))"
   ]
  },
  {
   "cell_type": "markdown",
   "metadata": {},
   "source": [
    "# Stacking"
   ]
  },
  {
   "cell_type": "code",
   "execution_count": 61,
   "metadata": {},
   "outputs": [
    {
     "data": {
      "text/plain": [
       "XGBRegressor(base_score=0.5, booster=None, colsample_bylevel=1,\n",
       "             colsample_bynode=1, colsample_bytree=1, early_stopping_rounds=2,\n",
       "             gamma=0, gpu_id=-1, importance_type='gain',\n",
       "             interaction_constraints=None, learning_rate=0.1, max_delta_step=0,\n",
       "             max_depth=4, min_child_weight=1, missing=nan,\n",
       "             monotone_constraints=None, n_estimators=150, n_jobs=0,\n",
       "             num_parallel_tree=1, objective='reg:squarederror', random_state=42,\n",
       "             reg_alpha=0, reg_lambda=1, scale_pos_weight=1, subsample=0.8,\n",
       "             tree_method=None, validate_parameters=False, verbosity=None)"
      ]
     },
     "execution_count": 61,
     "metadata": {},
     "output_type": "execute_result"
    }
   ],
   "source": [
    "xgbr_grid.best_estimator_"
   ]
  },
  {
   "cell_type": "code",
   "execution_count": 90,
   "metadata": {},
   "outputs": [
    {
     "name": "stdout",
     "output_type": "stream",
     "text": [
      "Best Mean Cross Validation Score is 0.8981002526147268\n",
      "Best Mean Cross Validation Score is {'weights': [2, 1.5, 1, 1, 1]}\n",
      "Train score is 0.9431058769147848\n",
      "Test score is 0.8851466346553082\n",
      "r2_score:  0.8851466346553082\n"
     ]
    }
   ],
   "source": [
    "# Voting top 5\n",
    "from sklearn.ensemble import VotingRegressor\n",
    "\n",
    "vrlf1 = VotingRegressor(estimators=\n",
    "                              [('xgbr', xgbr_grid.best_estimator_), \n",
    "                               ('bag_lasso', bag_lasso_grid.best_estimator_), \n",
    "                               ('paste_lasso', paste_lasso_grid.best_estimator_),\n",
    "                               ('ridge', grid_ridge.best_estimator_),\n",
    "                               ('lasso', grid_lasso.best_estimator_),\n",
    "                              ])\n",
    "vrlf1_param = {\n",
    "              'weights' : [[1,2,1.5,1,1], [1,1,2,1.5,1], [1,1,1,2,1.5], [1.5,1,1,1,2], [2,1.5,1,1,1]],\n",
    "             }\n",
    "vrlf1_grid = GridSearchCV(vrlf1, vrlf1_param,cv=5, return_train_score=True, )\n",
    "vrlf1_grid.fit(X_train,y_train)\n",
    "\n",
    "y_pred = vrlf1_grid.predict(X_test)\n",
    "\n",
    "print(f'Best Mean Cross Validation Score is {vrlf1_grid.best_score_}')\n",
    "print(f'Best Mean Cross Validation Score is {vrlf1_grid.best_params_}')\n",
    "print(f'Train score is {vrlf1_grid.score(X_train,y_train)}')\n",
    "print(f'Test score is {vrlf1_grid.score(X_test,y_test)}')\n",
    "print('r2_score: ', r2_score(y_test,y_pred))"
   ]
  },
  {
   "cell_type": "code",
   "execution_count": 93,
   "metadata": {},
   "outputs": [
    {
     "name": "stdout",
     "output_type": "stream",
     "text": [
      "Best Mean Cross Validation Score is 0.8767547186099472\n",
      "Best Mean Cross Validation Score is {'weights': [1, 2, 3]}\n",
      "Train score is 0.9827366119829046\n",
      "Test score is 0.8733832196309466\n",
      "r2_score:  0.8733832196309466\n"
     ]
    }
   ],
   "source": [
    "# Voting Least Correlated\n",
    "vrlf2 = VotingRegressor(estimators=\n",
    "                              [('dtree', grid_dtree.best_estimator_),\n",
    "                               ('knn', grid_knn.best_estimator_), \n",
    "                               ('gbr', gbr_grid.best_estimator_),\n",
    "                              ], )\n",
    "vrlf2_param = {\n",
    "              'weights':[[1,2,3],[2,1,3],[3,2,1]],\n",
    "             }\n",
    "vrlf2_grid = GridSearchCV(vrlf2, vrlf2_param,cv=5, return_train_score=True, )\n",
    "vrlf2_grid.fit(X_train,y_train)\n",
    "\n",
    "y_pred = vrlf2_grid.predict(X_test)\n",
    "\n",
    "print(f'Best Mean Cross Validation Score is {vrlf2_grid.best_score_}')\n",
    "print(f'Best Mean Cross Validation Score is {vrlf2_grid.best_params_}')\n",
    "print(f'Train score is {vrlf2_grid.score(X_train,y_train)}')\n",
    "print(f'Test score is {vrlf2_grid.score(X_test,y_test)}')\n",
    "print('r2_score: ', r2_score(y_test,y_pred))"
   ]
  },
  {
   "cell_type": "code",
   "execution_count": 71,
   "metadata": {},
   "outputs": [
    {
     "name": "stdout",
     "output_type": "stream",
     "text": [
      "Best Mean Cross Validation Score is 0.878043518790459\n",
      "Best Mean Cross Validation Score is {'final_estimator__C': 0.1}\n",
      "Train score is 0.9431579647446914\n",
      "Test score is 0.8652043398080183\n",
      "r2_score:  0.8652043398080183\n"
     ]
    }
   ],
   "source": [
    "# Stacking top 5\n",
    "from sklearn.ensemble import StackingRegressor\n",
    "srlf1 = StackingRegressor(estimators=\n",
    "                              [('xgbr', xgbr_grid.best_estimator_), \n",
    "                               ('bag_lasso', bag_lasso_grid.best_estimator_), \n",
    "                               ('paste_lasso', paste_lasso_grid.best_estimator_),\n",
    "                               ('ridge', grid_ridge.best_estimator_),\n",
    "                               ('lasso', grid_lasso.best_estimator_)\n",
    "                              ], final_estimator=XGBRegressor(random_state=42,early_stopping_rounds=2))\n",
    "srlf1_param = {\n",
    "              'final_estimator__C' : [0.1,0.2],\n",
    "             }\n",
    "srlf1_grid = GridSearchCV(srlf1, srlf1_param,cv=5, return_train_score=True, )\n",
    "srlf1_grid.fit(X_train,y_train)\n",
    "\n",
    "y_pred = srlf1_grid.predict(X_test)\n",
    "\n",
    "print(f'Best Mean Cross Validation Score is {srlf1_grid.best_score_}')\n",
    "print(f'Best Mean Cross Validation Score is {srlf1_grid.best_params_}')\n",
    "print(f'Train score is {srlf1_grid.score(X_train,y_train)}')\n",
    "print(f'Test score is {srlf1_grid.score(X_test,y_test)}')\n",
    "print('r2_score: ', r2_score(y_test,y_pred))"
   ]
  },
  {
   "cell_type": "code",
   "execution_count": 72,
   "metadata": {},
   "outputs": [
    {
     "name": "stdout",
     "output_type": "stream",
     "text": [
      "Best Mean Cross Validation Score is 0.8712330028119567\n",
      "Best Mean Cross Validation Score is {'final_estimator__learning_rate': 0.1, 'final_estimator__max_depth': 2, 'final_estimator__min_child_weight': 7, 'final_estimator__n_estimators': 50, 'final_estimator__subsample': 0.6}\n",
      "Train score is 0.9712463399874721\n",
      "Test score is 0.8463499552765346\n",
      "r2_score:  0.8463499552765346\n"
     ]
    }
   ],
   "source": [
    "# Stacking Least Correlated\n",
    "srlf2 = StackingRegressor(estimators=\n",
    "                              [('dtree', grid_dtree.best_estimator_),\n",
    "                               ('knn', grid_knn.best_estimator_), \n",
    "                               ('gbr', gbr_grid.best_estimator_), \n",
    "                                                             ], \n",
    "                           final_estimator=\n",
    "                           XGBRegressor(random_state=42,early_stopping_rounds=2))\n",
    "srlf2_param = {\n",
    "              'final_estimator__max_depth' : [2,6],\n",
    "              'final_estimator__n_estimators' : [50,150],\n",
    "              'final_estimator__learning_rate' : [0.1,0.6,0.8],\n",
    "              'final_estimator__min_child_weight' : [1,3,7],\n",
    "              'final_estimator__subsample':[0.6,0.9,1],\n",
    "             }\n",
    "srlf2_grid = GridSearchCV(srlf2, srlf2_param,cv=5, return_train_score=True, )\n",
    "srlf2_grid.fit(X_train,y_train)\n",
    "\n",
    "y_pred = srlf2_grid.predict(X_test)\n",
    "\n",
    "print(f'Best Mean Cross Validation Score is {srlf2_grid.best_score_}')\n",
    "print(f'Best Mean Cross Validation Score is {srlf2_grid.best_params_}')\n",
    "print(f'Train score is {srlf2_grid.score(X_train,y_train)}')\n",
    "print(f'Test score is {srlf2_grid.score(X_test,y_test)}')\n",
    "print('r2_score: ', r2_score(y_test,y_pred))"
   ]
  }
 ],
 "metadata": {
  "kernelspec": {
   "display_name": "Python 3",
   "language": "python",
   "name": "python3"
  },
  "language_info": {
   "codemirror_mode": {
    "name": "ipython",
    "version": 3
   },
   "file_extension": ".py",
   "mimetype": "text/x-python",
   "name": "python",
   "nbconvert_exporter": "python",
   "pygments_lexer": "ipython3",
   "version": "3.7.4"
  },
  "toc": {
   "base_numbering": 1,
   "nav_menu": {},
   "number_sections": true,
   "sideBar": false,
   "skip_h1_title": false,
   "title_cell": "Table of Contents",
   "title_sidebar": "Contents",
   "toc_cell": false,
   "toc_position": {
    "height": "583px",
    "left": "0px",
    "right": "1324px",
    "top": "107px",
    "width": "211.997px"
   },
   "toc_section_display": false,
   "toc_window_display": false
  },
  "varInspector": {
   "cols": {
    "lenName": 16,
    "lenType": 16,
    "lenVar": 40
   },
   "kernels_config": {
    "python": {
     "delete_cmd_postfix": "",
     "delete_cmd_prefix": "del ",
     "library": "var_list.py",
     "varRefreshCmd": "print(var_dic_list())"
    },
    "r": {
     "delete_cmd_postfix": ") ",
     "delete_cmd_prefix": "rm(",
     "library": "var_list.r",
     "varRefreshCmd": "cat(var_dic_list()) "
    }
   },
   "types_to_exclude": [
    "module",
    "function",
    "builtin_function_or_method",
    "instance",
    "_Feature"
   ],
   "window_display": false
  }
 },
 "nbformat": 4,
 "nbformat_minor": 2
}
